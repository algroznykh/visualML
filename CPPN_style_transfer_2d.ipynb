{
  "nbformat": 4,
  "nbformat_minor": 0,
  "metadata": {
    "colab": {
      "name": "CPPN style-transfer-2d.ipynb",
      "provenance": [],
      "collapsed_sections": [],
      "include_colab_link": true
    },
    "kernelspec": {
      "name": "python3",
      "display_name": "Python 3"
    },
    "accelerator": "GPU"
  },
  "cells": [
    {
      "cell_type": "markdown",
      "metadata": {
        "id": "view-in-github",
        "colab_type": "text"
      },
      "source": [
        "<a href=\"https://colab.research.google.com/github/algroznykh/visualML/blob/master/CPPN_style_transfer_2d.ipynb\" target=\"_parent\"><img src=\"https://colab.research.google.com/assets/colab-badge.svg\" alt=\"Open In Colab\"/></a>"
      ]
    },
    {
      "cell_type": "markdown",
      "metadata": {
        "id": "JndnmDMp66FL"
      },
      "source": [
        "##### Copyright 2018 Google LLC.\n",
        "\n",
        "Licensed under the Apache License, Version 2.0 (the \"License\");"
      ]
    },
    {
      "cell_type": "code",
      "metadata": {
        "id": "hMqWDc_m6rUC",
        "cellView": "both"
      },
      "source": [
        "# Licensed under the Apache License, Version 2.0 (the \"License\");\n",
        "# you may not use this file except in compliance with the License.\n",
        "# You may obtain a copy of the License at\n",
        "#\n",
        "# https://www.apache.org/licenses/LICENSE-2.0\n",
        "#\n",
        "# Unless required by applicable law or agreed to in writing, software\n",
        "# distributed under the License is distributed on an \"AS IS\" BASIS,\n",
        "# WITHOUT WARRANTIES OR CONDITIONS OF ANY KIND, either express or implied.\n",
        "# See the License for the specific language governing permissions and\n",
        "# limitations under the License."
      ],
      "execution_count": null,
      "outputs": []
    },
    {
      "cell_type": "markdown",
      "metadata": {
        "id": "5nno2iRZXJbX"
      },
      "source": [
        "# Style Transfer\n",
        "\n",
        "\n",
        "![header image](https://storage.googleapis.com/tensorflow-lucid/static/img/notebook-styletransfer-header.jpg =512x) \n",
        "\n",
        "This notebook uses [**Lucid**](https://github.com/tensorflow/lucid) to perform style transfer between two images, and show how different parameterizations affect that process.\n",
        "\n",
        "This notebook doesn't introduce the abstractions behind lucid; you may wish to also read the [Lucid tutorial](https://colab.research.google.com/github/tensorflow/lucid/blob/master/notebooks/tutorial.ipynb).\n",
        "\n",
        "**Note**: The easiest way to use this tutorial is [as a colab notebook](https://colab.research.google.com/drive/1XuxLjIZj9MV-lRCpXHBhLo5A41Zs0f8E), which allows you to dive in with no setup. We recommend you enable a free GPU by going:\n",
        "\n",
        "> **Runtime**   →   **Change runtime type**   →   **Hardware Accelerator: GPU**\n"
      ]
    },
    {
      "cell_type": "markdown",
      "metadata": {
        "id": "FsFc1mE51tCd"
      },
      "source": [
        "## Install, Import, Load Model"
      ]
    },
    {
      "cell_type": "code",
      "metadata": {
        "colab": {
          "base_uri": "https://localhost:8080/"
        },
        "id": "4t7lhZLe5Z8L",
        "outputId": "94b84555-7029-48f0-e67f-16c6dfe9246f"
      },
      "source": [
        "%tensorflow_version 1.x"
      ],
      "execution_count": null,
      "outputs": [
        {
          "output_type": "stream",
          "text": [
            "TensorFlow 1.x selected.\n"
          ],
          "name": "stdout"
        }
      ]
    },
    {
      "cell_type": "code",
      "metadata": {
        "id": "tavMPe3KQ8Cs",
        "colab": {
          "base_uri": "https://localhost:8080/"
        },
        "outputId": "d251ab06-a7f4-49de-d5d1-6909639e31cf"
      },
      "source": [
        "!pip install -q lucid==0.2.3"
      ],
      "execution_count": null,
      "outputs": [
        {
          "output_type": "stream",
          "text": [
            "\u001b[?25l\r\u001b[K     |████████                        | 10kB 20.0MB/s eta 0:00:01\r\u001b[K     |████████████████                | 20kB 25.0MB/s eta 0:00:01\r\u001b[K     |████████████████████████▏       | 30kB 11.2MB/s eta 0:00:01\r\u001b[K     |████████████████████████████████| 40kB 2.7MB/s \n",
            "\u001b[?25h  Building wheel for lucid (setup.py) ... \u001b[?25l\u001b[?25hdone\n"
          ],
          "name": "stdout"
        }
      ]
    },
    {
      "cell_type": "code",
      "metadata": {
        "id": "RBr8QbboRAdU"
      },
      "source": [
        "# Imports\n",
        "\n",
        "import numpy as np\n",
        "import tensorflow as tf\n",
        "\n",
        "from lucid.modelzoo import vision_models\n",
        "from lucid.misc.io import show, load, save\n",
        "from lucid.misc.tfutil import create_session\n",
        "\n",
        "import lucid.optvis.objectives as objectives\n",
        "import lucid.optvis.param as param\n",
        "import lucid.optvis.render as render"
      ],
      "execution_count": null,
      "outputs": []
    },
    {
      "cell_type": "markdown",
      "metadata": {
        "id": "CbtI802fnv_A"
      },
      "source": [
        "We will be writing a custom objective for style transfer, so let's grab this handy decorator that allows us to take a simple function and mark it as an objective in lucid:"
      ]
    },
    {
      "cell_type": "code",
      "metadata": {
        "id": "WemFM-0dOOxL"
      },
      "source": [
        "from lucid.optvis.objectives import wrap_objective"
      ],
      "execution_count": null,
      "outputs": []
    },
    {
      "cell_type": "markdown",
      "metadata": {
        "id": "WBmcdJion8oJ"
      },
      "source": [
        "And we'll use our default vision model, GoogLeNet:"
      ]
    },
    {
      "cell_type": "code",
      "metadata": {
        "id": "yNALaA0QRJVT",
        "colab": {
          "base_uri": "https://localhost:8080/"
        },
        "outputId": "3c35abb0-a5d1-434e-850e-fc3dfa817ff3"
      },
      "source": [
        "model = vision_models.InceptionV1()\n",
        "model.load_graphdef()"
      ],
      "execution_count": null,
      "outputs": [
        {
          "output_type": "stream",
          "text": [
            "WARNING:tensorflow:From /usr/local/lib/python3.7/dist-packages/lucid/misc/io/writing.py:62: The name tf.gfile.MakeDirs is deprecated. Please use tf.io.gfile.makedirs instead.\n",
            "\n",
            "WARNING:tensorflow:From /usr/local/lib/python3.7/dist-packages/lucid/misc/io/writing.py:70: The name tf.gfile.Open is deprecated. Please use tf.io.gfile.GFile instead.\n",
            "\n",
            "WARNING:tensorflow:From /usr/local/lib/python3.7/dist-packages/lucid/modelzoo/util.py:38: The name tf.GraphDef is deprecated. Please use tf.compat.v1.GraphDef instead.\n",
            "\n"
          ],
          "name": "stderr"
        }
      ]
    },
    {
      "cell_type": "markdown",
      "metadata": {
        "id": "J-gqG5sqQgHG"
      },
      "source": [
        "You can use this to see if you're running on a machine with a correctly configured GPU:"
      ]
    },
    {
      "cell_type": "code",
      "metadata": {
        "id": "TpFer0KYz-lE",
        "colab": {
          "base_uri": "https://localhost:8080/"
        },
        "outputId": "d370e62d-2629-40df-be70-42c31ac0c828"
      },
      "source": [
        "tf.test.is_gpu_available()"
      ],
      "execution_count": null,
      "outputs": [
        {
          "output_type": "execute_result",
          "data": {
            "text/plain": [
              "True"
            ]
          },
          "metadata": {
            "tags": []
          },
          "execution_count": 6
        }
      ]
    },
    {
      "cell_type": "markdown",
      "metadata": {
        "id": "FB4nsWJFb9VQ"
      },
      "source": [
        "## Load input images"
      ]
    },
    {
      "cell_type": "markdown",
      "metadata": {
        "id": "G5LDE5mraW9u"
      },
      "source": [
        "First, let's take a look at the two images we want to transfer styles between. This code should feel familiar from the Lucid tutorial:\n",
        "\n",
        "Later in the notebook there'll be an opportunity to upload your own images, too."
      ]
    },
    {
      "cell_type": "code",
      "metadata": {
        "colab": {
          "base_uri": "https://localhost:8080/",
          "height": 273
        },
        "id": "mE5dOFe36Jbb",
        "outputId": "2365e641-1fe7-4cb8-c8bb-28abaf9b3f21"
      },
      "source": [
        "import PIL\n",
        "im = PIL.Image.fromarray(np.dstack([np.array(PIL.Image.open('/content/vid.png'))[...,0] for _ in range(3)])).resize((256,256))\n",
        "# im = PIL.Image.fromarray(np.dstack([np.array(PIL.Image.open('/content/map-zfi.jpg'))[...,0] for _ in range(3)])).resize((256,256))\n",
        "\n",
        "im"
      ],
      "execution_count": null,
      "outputs": [
        {
          "output_type": "execute_result",
          "data": {
            "image/png": "[encoded data removed]",
            "text/plain": [
              "<PIL.Image.Image image mode=RGB size=256x256 at 0x7FCADCC38F10>"
            ]
          },
          "metadata": {
            "tags": []
          },
          "execution_count": 154
        }
      ]
    },
    {
      "cell_type": "code",
      "metadata": {
        "id": "l8Si-VMh6xRu"
      },
      "source": [
        "\n",
        "# style_image = np.array(PIL.Image.open('/content/map-zfi.jpg').resize((256,256)), dtype=np.float32)[...,:3] / 256\n",
        "# content_image = np.array(PIL.Image.open('/content/map-zfi.jpg').resize((256,256)), dtype=np.float32)[:,:,:3] / 256\n",
        "\n",
        "style_image = np.array(im, dtype=np.float32)[...,:3] / 256\n",
        "content_image = np.array(im, dtype=np.float32)[:,:,:3] / 256"
      ],
      "execution_count": null,
      "outputs": []
    },
    {
      "cell_type": "markdown",
      "metadata": {
        "id": "O1cIiSgvcCl1"
      },
      "source": [
        "## Introducing style transfer\n",
        "\n",
        "In lucid, style transfer (rendering an image in the visual style of a different image) can be expressed compactly.\n",
        "\n",
        "We feed two images, a **style image** and a **content image** into our model, which produces activations at all of its layers. \n",
        "From that we extract two subsets of activations, the style activations (orange) and the content activations (green), at different depths in the network. \n",
        "\n",
        "We then optimize an input to produce activations similar to the combined set of activations we extracted.\n",
        "\n",
        "![styletransfer-diagram](https://storage.googleapis.com/tensorflow-lucid/static/img/notebook-styletransfer-diagram.png =563x)"
      ]
    },
    {
      "cell_type": "markdown",
      "metadata": {
        "id": "EQwPDc4ddHIW"
      },
      "source": [
        "Which layers work best for that is an aesthetic choice. Recommended reading: [Feature Visualization](https://distill.pub/2017/feature-visualization), in which the hero graphic shows what kind of visual concepts get captured at which layers in the model we are using."
      ]
    },
    {
      "cell_type": "code",
      "metadata": {
        "id": "_7dwzDwgOZVt"
      },
      "source": [
        "style_layers = [\n",
        "  'mixed3a',\n",
        "  'mixed4b',\n",
        "  'mixed4c',\n",
        "  \n",
        "]\n",
        "\n",
        "content_layers = [\n",
        "  'mixed3b'  # , 'mixed4a', 'mixed5a'\n",
        "]"
      ],
      "execution_count": null,
      "outputs": []
    },
    {
      "cell_type": "markdown",
      "metadata": {
        "id": "Oigu8czPfa6P"
      },
      "source": [
        "To feed two images + one that is being optimized into our network we will use the batch dimension of a cutsom parameterization. It consists simply of the paramaterization of the optimized image stacked with the two images.\n",
        "\n",
        "(We also use cropping to allow style images of a larger size than content images.)"
      ]
    },
    {
      "cell_type": "code",
      "metadata": {
        "id": "uH-R-CDrYz8i"
      },
      "source": [
        "\n",
        "from tensorflow.contrib import slim\n",
        "\n",
        "\n",
        "def composite_activation(x):\n",
        "  x = tf.atan(x)\n",
        "  # Coefficients computed by:\n",
        "  #   def rms(x):\n",
        "  #     return np.sqrt((x*x).mean())\n",
        "  #   a = np.arctan(np.random.normal(0.0, 1.0, 10**6))\n",
        "  #   print(rms(a), rms(a*a))\n",
        "  return tf.concat([x/0.67, (x*x)/0.6], -1)\n",
        "\n",
        "\n",
        "def composite_activation_unbiased(x):\n",
        "  x = tf.atan(x)\n",
        "  # Coefficients computed by:\n",
        "  #   a = np.arctan(np.random.normal(0.0, 1.0, 10**6))\n",
        "  #   aa = a*a\n",
        "  #   print(a.std(), aa.mean(), aa.std())\n",
        "  return tf.concat([x/0.67, (x*x-0.45)/0.396], -1)\n",
        "\n",
        "def composite_activation_sin(x):\n",
        "  x = tf.sin(x)\n",
        "  # Coefficients computed by:\n",
        "  #   a = np.arcsin(np.random.normal(0.0, 1.0, 10**6))\n",
        "  #   aa = a*a\n",
        "  #   print(a.std(), aa.mean(), aa.std())\n",
        "  return tf.concat([x/0.631, (x*x)/0.616], -1)\n",
        "  #   return tf.concat([x/0.63, (x*x-0.4)/0.47], -1)\n",
        "\n",
        "\n",
        "def relu_normalized(x):\n",
        "  x = tf.nn.relu(x)\n",
        "  # Coefficients computed by:\n",
        "  #   a = np.random.normal(0.0, 1.0, 10**6)\n",
        "  #   a = np.maximum(a, 0.0)\n",
        "  #   print(a.mean(), a.std())\n",
        "  return (x-0.40)/0.58\n",
        "\n",
        "\n",
        "def image_cppn(\n",
        "    size,\n",
        "    num_output_channels=3,\n",
        "    num_hidden_channels=24,\n",
        "    num_layers=8,\n",
        "    activation_fn=composite_activation,\n",
        "    normalize=False):\n",
        "  r = 3.0**0.5  # std(coord_range) == 1.0\n",
        "  coord_range = tf.linspace(-r, r, size)\n",
        "  y, x = tf.meshgrid(coord_range, coord_range, indexing='ij')\n",
        "  net = tf.expand_dims(tf.stack([x, y], -1), 0)  # add batch dimension\n",
        "\n",
        "  with slim.arg_scope([slim.conv2d], kernel_size=1, activation_fn=None):\n",
        "    for i in range(num_layers):\n",
        "      in_n = int(net.shape[-1])\n",
        "      net = slim.conv2d(\n",
        "          net, num_hidden_channels,\n",
        "          # this is untruncated version of tf.variance_scaling_initializer\n",
        "          weights_initializer=tf.random_normal_initializer(0.0, np.sqrt(1.0/in_n)),\n",
        "      )\n",
        "      if normalize:\n",
        "        net = slim.instance_norm(net)\n",
        "      net = activation_fn(net)\n",
        "\n",
        "    rgb = slim.conv2d(net, num_output_channels, activation_fn=tf.nn.sigmoid,\n",
        "                      weights_initializer=tf.zeros_initializer())\n",
        "  return rgb\n",
        "\n",
        "\n",
        "def gl_image_cppn(\n",
        "    size,\n",
        "    num_output_channels=3,\n",
        "    num_hidden_channels=24,\n",
        "    num_layers=8,\n",
        "    batch_size=1,\n",
        "    activation_fn=composite_activation,\n",
        "    biases_initializer=None,\n",
        "    weights_initializer=None,\n",
        "    include_meshgrid=True,\n",
        "    include_sininput=False,\n",
        "    jitter_input=None,\n",
        "    weights_regularizer=None,\n",
        "    num_noise_channels=-1,\n",
        "    \n",
        "    normalize=False):\n",
        "    '''\n",
        "    Allowed 'activation_fn' to be a list as well to have different activations per layer.\n",
        "    If `num_noise_channels > 0`, will not feed in meshgrid, but rather multiple channels of different\n",
        "    scaled noise\n",
        "    '''\n",
        "    r = 3.0**0.5  # std(coord_range) == 1.0\n",
        "    coord_range = tf.linspace(-r, r, size)\n",
        "    net = None\n",
        "    if num_noise_channels > 0:\n",
        "        channel_size = size\n",
        "        noise_channels = []\n",
        "        for octave_i in range(num_noise_channels):\n",
        "            noise_channel = tf.random_normal((batch_size, channel_size, channel_size, 1))\n",
        "            dy, dx = tf.image.image_gradients(noise_channel)\n",
        "            noise_channels.extend([tf.image.resize_bicubic(noise_channel, (size, size)),\n",
        "                                   tf.image.resize_bicubic(dy, (size, size)),\n",
        "                                   tf.image.resize_bicubic(dx, (size, size))\n",
        "                                  ])\n",
        "            channel_size = int(np.ceil(channel_size/2))\n",
        "        net = tf.concat(noise_channels, -1)\n",
        "    if include_meshgrid:\n",
        "        y, x = tf.meshgrid(coord_range, coord_range, indexing='ij')\n",
        "        meshstack = tf.tile(tf.expand_dims(tf.stack([x, y], -1), 0), (batch_size, 1, 1, 1))  # add batch dimension\n",
        "        if jitter_input is not None:\n",
        "            meshstack = meshstack + tf.random_uniform((batch_size, 1, 1, 2),\n",
        "                                                      minval = jitter_input[0], maxval=jitter_input[1])\n",
        "        if net is None:\n",
        "            net = meshstack\n",
        "        else:\n",
        "            net = tf.concat([net, meshstack], -1)\n",
        "    if include_sininput:\n",
        "        y, x = tf.meshgrid(coord_range, coord_range, indexing='ij')\n",
        "        meshstack = tf.tile(tf.expand_dims(tf.stack([x, y], -1), 0), (batch_size, 1, 1, 1))  # add batch dimension\n",
        "        if net is None:\n",
        "            net = meshstack\n",
        "        else:\n",
        "            net = tf.concat([net, meshstack], -1)\n",
        "        \n",
        "    with slim.arg_scope([slim.conv2d], kernel_size=1, activation_fn=None,\n",
        "                        weights_regularizer=weights_regularizer):\n",
        "        for i in range(num_layers):\n",
        "            in_n = int(net.shape[-1])\n",
        "            if isinstance(num_hidden_channels, list):\n",
        "                hidden = num_hidden_channels[i]\n",
        "            else:\n",
        "                hidden = num_hidden_channels\n",
        "                \n",
        "            if isinstance(biases_initializer, list):\n",
        "                layer_bias_initializer = biases_initializer[i]\n",
        "            else:\n",
        "                layer_bias_initializer = biases_initializer\n",
        "            if layer_bias_initializer is None:\n",
        "                layer_bias_initializer = tf.zeros_initializer()\n",
        "                \n",
        "            if isinstance(weights_initializer, list):\n",
        "                layer_weight_initializer = weights_initializer[i]\n",
        "            else:\n",
        "                layer_weight_initializer = weights_initializer\n",
        "            if layer_weight_initializer is None:\n",
        "                layer_weight_initializer = tf.random_normal_initializer(0.0, np.sqrt(1.0/in_n))\n",
        "\n",
        "            net = slim.conv2d(\n",
        "                net, hidden,\n",
        "                # this is untruncated version of tf.variance_scaling_initializer\n",
        "                weights_initializer = layer_weight_initializer,\n",
        "                biases_initializer = layer_bias_initializer,\n",
        "            )\n",
        "            \n",
        "            if normalize:\n",
        "                net = slim.instance_norm(net)\n",
        "                \n",
        "            if isinstance(activation_fn, list):\n",
        "                net = activation_fn[i](net)\n",
        "            else:\n",
        "                net = activation_fn(net)\n",
        "\n",
        "        rgb = slim.conv2d(net, num_output_channels, activation_fn=tf.nn.sigmoid,\n",
        "                          weights_initializer=tf.zeros_initializer())\n",
        "    return rgb"
      ],
      "execution_count": null,
      "outputs": []
    },
    {
      "cell_type": "markdown",
      "metadata": {
        "id": "zfc-bFfRGZsA"
      },
      "source": [
        "# PARAMS"
      ]
    },
    {
      "cell_type": "code",
      "metadata": {
        "id": "9Fsw1wK_nuMJ"
      },
      "source": [
        "cppn_params={\"num_hidden_channels\": 24, 'num_layers': 6,\n",
        "                                        \"biases_initializer\": tf.random_uniform_initializer(-.5, .5),\n",
        "                                      'activation_fn': composite_activation_sin}\n",
        "\n",
        "def style_transfer_param(content_image, style_image, decorrelate=True, fft=True):\n",
        "#   style_transfer_input = pcppn_params={\"num_hidden_channels\": 16, 'num_layers': 9,\n",
        "#                                         \"biases_initializer\": tf.random_uniform_initializer(-.5, .5),\n",
        "#                                       'activation_fn': composite_activation})l_image_cppn(256, **cppn_params)[0,:,:,:]\n",
        "  style_transfer_input = gl_image_cppn(256, **cppn_params)[0,...]\n",
        "  content_input = content_image\n",
        "  style_input = tf.random_crop(style_image, content_image.shape)\n",
        "  return tf.stack([style_transfer_input, content_input, style_input])\n",
        "\n",
        "# these constants help remember which image is at which batch dimension\n",
        "TRANSFER_INDEX = 0\n",
        "CONTENT_INDEX = 1\n",
        "STYLE_INDEX = 2"
      ],
      "execution_count": null,
      "outputs": []
    },
    {
      "cell_type": "markdown",
      "metadata": {
        "id": "qeJU0wIDpm0r"
      },
      "source": [
        "Let's sanity check that shapes fit and the three inputs get stacked on their batch dimension correctly:"
      ]
    },
    {
      "cell_type": "code",
      "metadata": {
        "colab": {
          "base_uri": "https://localhost:8080/"
        },
        "id": "bqcOV7806GMj",
        "outputId": "acfcb4a0-604a-44d8-c070-5ffc82f55319"
      },
      "source": [
        "style_image.shape"
      ],
      "execution_count": null,
      "outputs": [
        {
          "output_type": "execute_result",
          "data": {
            "text/plain": [
              "(200, 146, 3)"
            ]
          },
          "metadata": {
            "tags": []
          },
          "execution_count": 44
        }
      ]
    },
    {
      "cell_type": "code",
      "metadata": {
        "id": "B2eE6dGQpYRV",
        "colab": {
          "base_uri": "https://localhost:8080/"
        },
        "outputId": "7d135734-6b99-4624-9596-ac14a3ff676c"
      },
      "source": [
        "style_transfer_param(content_image, style_image).shape"
      ],
      "execution_count": null,
      "outputs": [
        {
          "output_type": "execute_result",
          "data": {
            "text/plain": [
              "TensorShape([Dimension(3), Dimension(200), Dimension(146), Dimension(3)])"
            ]
          },
          "metadata": {
            "tags": []
          },
          "execution_count": 45
        }
      ]
    },
    {
      "cell_type": "markdown",
      "metadata": {
        "id": "fpVnFlaxqlnz"
      },
      "source": [
        "Here we use `@wrap_objective` to create a custom `activation_difference` objective in lucid.\n",
        "It takes as arguments the layer names specifying the subset of activations, and an image.\n",
        "It will extract the specified subset of activations from both the supplied image and the one we are optimizing, and compute their difference.\n",
        "\n",
        "Optionally one can pass a loss function defining how these differences should be penalized. By default, we penalize mean L1 difference.\n",
        "Also, one can pass a function transforming the subset of activations. By default, we don't transform the activations."
      ]
    },
    {
      "cell_type": "code",
      "metadata": {
        "id": "uKCaeYwf7-jI"
      },
      "source": [
        "def mean_L1(a, b):\n",
        "  return tf.reduce_mean(tf.abs(a-b))\n",
        "\n",
        "def mean_L2(a, b):\n",
        "  return tf.reduce_mean(tf.square(a-b))"
      ],
      "execution_count": null,
      "outputs": []
    },
    {
      "cell_type": "code",
      "metadata": {
        "id": "Lq6k5NRsDzBy"
      },
      "source": [
        "@wrap_objective\n",
        "def activation_difference(layer_names, activation_loss_f=mean_L1, transform_f=None, difference_to=CONTENT_INDEX):\n",
        "  def inner(T):\n",
        "    # first we collect the (constant) activations of image we're computing the difference to\n",
        "    image_activations = [T(layer_name) for layer_name in layer_names]\n",
        "    if transform_f is not None:\n",
        "      image_activations = [transform_f(act) for act in image_activations]\n",
        "\n",
        "    # we also set get the activations of the optimized image which will change during optimization\n",
        "    optimization_activations = [T(layer)[TRANSFER_INDEX] for layer in layer_names]\n",
        "    if transform_f is not None:\n",
        "      optimization_activations = [transform_f(act) for act in optimization_activations]\n",
        "\n",
        "    # we use the supplied loss function to compute the actual losses\n",
        "    losses = [activation_loss_f(a, b) for a, b in zip(image_activations, optimization_activations)]\n",
        "    return tf.add_n(losses)\n",
        "\n",
        "  return inner"
      ],
      "execution_count": null,
      "outputs": []
    },
    {
      "cell_type": "markdown",
      "metadata": {
        "id": "9jlOTiujr7ff"
      },
      "source": [
        "For the style loss, we do not care about the spatial information in the activations. Using a gram matrix to transform the activations before penalizing their difference works well for this:"
      ]
    },
    {
      "cell_type": "code",
      "metadata": {
        "id": "RSXAKI1D5eVq"
      },
      "source": [
        "def gram_matrix(array, normalize_magnitue=True):\n",
        "  channels = tf.shape(array)[-1]\n",
        "  array_flat = tf.reshape(array, [-1, channels])\n",
        "  gram_matrix = tf.matmul(array_flat, array_flat, transpose_a=True)\n",
        "  if normalize_magnitue:\n",
        "    length = tf.shape(array_flat)[0]\n",
        "    gram_matrix /= tf.cast(length, tf.float32)\n",
        "  return gram_matrix"
      ],
      "execution_count": null,
      "outputs": []
    },
    {
      "cell_type": "markdown",
      "metadata": {
        "id": "jTo-lDjmdWFN"
      },
      "source": [
        "Now we have all the ingredients to set up an optimization in lucid: we will create two `activation_difference` objectives, a normal one for the **content loss**, and one transforming the activations using `gram_matrix` for the **style loss**."
      ]
    },
    {
      "cell_type": "code",
      "metadata": {
        "colab": {
          "base_uri": "https://localhost:8080/"
        },
        "id": "dZtivtg63chu",
        "outputId": "7dc62d1f-8ec9-4d13-9e02-f0582b6658af"
      },
      "source": [
        "content_image.shape, style_image.shape"
      ],
      "execution_count": null,
      "outputs": [
        {
          "output_type": "execute_result",
          "data": {
            "text/plain": [
              "((128, 128, 3), (128, 128, 3))"
            ]
          },
          "metadata": {
            "tags": []
          },
          "execution_count": 128
        }
      ]
    },
    {
      "cell_type": "code",
      "metadata": {
        "id": "m2x9fl2rD6Tp"
      },
      "source": [
        "from lucid.optvis.objectives import deepdream"
      ],
      "execution_count": null,
      "outputs": []
    },
    {
      "cell_type": "markdown",
      "metadata": {
        "id": "nRg5fdlpJQcz"
      },
      "source": [
        "# OBJ"
      ]
    },
    {
      "cell_type": "code",
      "metadata": {
        "id": "w8hZHgPy8wBh"
      },
      "source": [
        "param_f = lambda: style_transfer_param(content_image, style_image)\n",
        "\n",
        "content_obj = 80 * activation_difference(content_layers, difference_to=CONTENT_INDEX, activation_loss_f=mean_L1)\n",
        "content_obj.description = \"Content Loss\"\n",
        "\n",
        "style_obj = activation_difference(style_layers, transform_f=gram_matrix, difference_to=STYLE_INDEX)\n",
        "style_obj.description = \"Style Loss\"\n",
        "\n",
        "objective = - content_obj * 100 - style_obj * 0\n",
        "# objective = -style_obj\n",
        "# objective = deepdream('mixed4a') * 100\n",
        "\n",
        "# vis = render.render_vis(model, objective, param_f=param_f, thresholds=[16, 64, 256], verbose=True, print_objectives=[content_obj, style_obj])[-1]"
      ],
      "execution_count": null,
      "outputs": []
    },
    {
      "cell_type": "code",
      "metadata": {
        "id": "W9WIoX0FCaSW",
        "colab": {
          "base_uri": "https://localhost:8080/",
          "height": 277
        },
        "outputId": "9050e7c7-9f1e-43b2-b19f-7a9041586e00"
      },
      "source": [
        "show(vis[0])"
      ],
      "execution_count": null,
      "outputs": [
        {
          "output_type": "display_data",
          "data": {
            "text/html": [
              "<img src=\"data:image/PNG;base64,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\">"
            ],
            "text/plain": [
              "<IPython.core.display.HTML object>"
            ]
          },
          "metadata": {
            "tags": []
          }
        }
      ]
    },
    {
      "cell_type": "markdown",
      "metadata": {
        "id": "1dx5C9mTs_FT"
      },
      "source": [
        "That looks like style transfer to me!"
      ]
    },
    {
      "cell_type": "code",
      "metadata": {
        "id": "x4uPVuOi81y-"
      },
      "source": [
        "def eval_model(model=None, param_f=None, iters=200, show_every=50, show_num=5, target=None, cppn_params = {},\n",
        "              optimizer_params = {\"learning_rate\": 0.005}):\n",
        "    '''\n",
        "    This function \"trains\" the CPNN (optimizes its weights to activate a particular neuron in the Inception model)\n",
        "    and then returns a list of numpy arrays of [(weight, bias)] tuples.\n",
        "    These can be used to output GLSL code in the subsequent step.\n",
        "    '''        \n",
        "    with tf.Graph().as_default() as graph, tf.Session() as sess:\n",
        "        cppn_f = style_transfer_param(content_image, style_image)  # image_cppn(224, **cppn_params)\n",
        "        optimizer = tf.train.AdamOptimizer(**optimizer_params)\n",
        "\n",
        "        T = render.make_vis_T(model, target, param_f=cppn_f, optimizer=optimizer)\n",
        "        \n",
        "        loss, vis_op, t_image = T(\"loss\"), T(\"vis_op\"), T(\"input\")\n",
        "        tf.initialize_all_variables().run()\n",
        "        to_show = []\n",
        "\n",
        "        try:\n",
        "            for i in range(iters):\n",
        "                T(\"vis_op\").run()\n",
        "                print(f\"{i}: {loss.eval():.3}\", end=\",\", flush=True)\n",
        "                to_show.append(t_image.eval()) # Should probably only do this when I know I'll show it.\n",
        "                to_show = to_show[-show_num:]\n",
        "                if (i+1)%show_every == 0:\n",
        "                    show(np.concatenate(to_show, 0))\n",
        "        except KeyboardInterrupt:\n",
        "            print(\"INTERRUPTED\")\n",
        "        \n",
        "        evaled = [var.eval() for var in cppn_f.graph.get_collection('trainable_variables')]\n",
        "        print(\"EVALED\", type(evaled[0]))\n",
        "        grouped = []\n",
        "        print(len(evaled))\n",
        "        print([var.name for var in cppn_f.graph.get_collection('trainable_variables')])\n",
        "        # Rearrange it into a nice dictionary\n",
        "        for pos in range(0, len(evaled), 2):\n",
        "            # This isn't completely elegant. I try to figure out what the activation\n",
        "            # of this layer was, but I have to repeat some of th defaults inside the call\n",
        "            # to image_cppn to do so.\n",
        "            activation_fn = cppn_params.get('activation_fn', composite_activation)\n",
        "            if isinstance(activation_fn, list):\n",
        "                if pos//2 < len(activation_fn):\n",
        "                    activation_fn = activation_fn[pos//2]\n",
        "                else:\n",
        "                    # This is a bit of a hack, the last layer is hardcoded to sigmoid activation\n",
        "                    activation_fn = tf.nn.sigmoid\n",
        "            grouped.append({'weights': evaled[pos], \n",
        "                           'bias': evaled[pos+1],\n",
        "                            'activation': activation_fn\n",
        "                           })\n",
        "        return grouped"
      ],
      "execution_count": null,
      "outputs": []
    },
    {
      "cell_type": "markdown",
      "metadata": {
        "id": "kmhlcYW3H88-"
      },
      "source": [
        "# OPTIMIZE"
      ]
    },
    {
      "cell_type": "code",
      "metadata": {
        "id": "9KBfltdj89DI"
      },
      "source": [
        "evld = eval_model(model=model, iters=2048, target=objective)"
      ],
      "execution_count": null,
      "outputs": []
    },
    {
      "cell_type": "code",
      "metadata": {
        "id": "PcLabzxRE0kX"
      },
      "source": [
        "import numpy as np\n",
        "\n",
        "def cppn_to_glsl(layers, fn_name=\"cppn_fn\", mode=\"shadertoy\", verbose=False,\n",
        "                fix_aspect=True):\n",
        "    '''\n",
        "    Given a list of dicts defining layers of a trained CPPN (as returned by the above `eval_model` function) \n",
        "    generate GLSL code.\n",
        "    \n",
        "    The `mode` parameter can be one of the following:\n",
        "    \"shadertoy\":\n",
        "        Exports code compatible with the ShaderToy editor at http://shadertoy.com\n",
        "    \"bookofshaders\":\n",
        "        Exports code compatible with the Book Of Shaders editor here http://editor.thebookofshaders.com/\n",
        "    \"td\":\n",
        "        Exports code compatible with TouchDesigner: can be dropped into a \"GLSL TOP\"\n",
        "        (see https://docs.derivative.ca/GLSL_TOP). TouchDesigner can be found at http://derivative.ca\n",
        "    '''\n",
        "    \n",
        "    # the xy2rgb cppn's internal size is the output of its first layer (pre-activation)\n",
        "    # so will just inspect that to figure it out\n",
        "    n_hidden = layers[0]['weights'].shape[-1]\n",
        "    if n_hidden%4 != 0:\n",
        "        raise ValueError(\"Currently only support multiples of 4 for hidden layer size\")\n",
        "    modes = {\"shadertoy\", \"bookofshaders\", \"td\"}\n",
        "    if mode not in modes:\n",
        "        raise ValueError(f\"Mode {mode} not one of the supported modes: {modes}\")\n",
        "        \n",
        "    if mode == \"bookofshaders\":\n",
        "        snippet =f\"\"\"\n",
        "#ifdef GL_ES\n",
        "precision lowp float;\n",
        "#endif\n",
        "\n",
        "uniform vec2 u_resolution;\n",
        "uniform vec2 u_mouse;\n",
        "uniform float u_time;\n",
        "\"\"\"\n",
        "    elif mode == \"shadertoy\":\n",
        "        snippet = \"\"\n",
        "    elif mode == \"td\":\n",
        "        snippet = f\"\"\"\n",
        "uniform float uIn0;\n",
        "uniform float uIn1;\n",
        "uniform float uIn2;\n",
        "uniform float uIn3;\n",
        "\n",
        "out vec4 fragColor;\n",
        "        \"\"\"\n",
        "    \n",
        "    snippet += f\"\"\"\n",
        "#define N_HIDDEN {n_hidden}\n",
        "\n",
        "vec4 bufA[N_HIDDEN/4];\n",
        "vec4 bufB[N_HIDDEN/2];\n",
        "\n",
        "\n",
        "vec4 {fn_name}(vec2 coordinate, float in0, float in1, float in2, float in3) {{\n",
        "    vec4 tmp;\n",
        "    bufB[0] = vec4(coordinate.x, coordinate.y, 0., 0.);\n",
        "\"\"\"\n",
        "    def vec(a):\n",
        "        '''Take a Python array of length four (or less) and output code for\n",
        "        a GLSL vec4, possibly zero-padded at the end'''\n",
        "        if len(a) == 4:\n",
        "            return f\"vec4({','.join(str(x) for x in a)})\"\n",
        "        else:\n",
        "            assert len(a) < 4 , \"Length must less than 4\"\n",
        "            return vec(np.concatenate([a, [0.]*(4-len(a))]))\n",
        "    \n",
        "    def mat(a):\n",
        "        '''Tak a numpy matrix of 4 rows and 4 or fewer columns, and output GLSL code\n",
        "        for a mat4, possibly with zeros padded in the final columns'''\n",
        "        if a.shape[0] < 4:\n",
        "            m2 = np.vstack([a, [[0.,0.,0.,0.]] * (4 - a.shape[0])])\n",
        "            return mat(m2)\n",
        "        assert a.shape[0] == 4, f\"Expected a of shape (4,n<=4). Got: {a.shape}.\"\n",
        "        return f\"mat4({','.join(vec(row) for row in a)})\"\n",
        "    \n",
        "    for layer_i, layer_dict in enumerate(layers):\n",
        "        weight = layer_dict['weights']\n",
        "        bias = layer_dict['bias']\n",
        "        activation = layer_dict['activation']\n",
        "        \n",
        "        _, _, from_size, to_size = weight.shape\n",
        "        if verbose:\n",
        "            print(f\"Processing layer {layer_i}. from_size={from_size}, to_size={to_size}\")\n",
        "        \n",
        "        # First, compute the transformation from the last layer into bufA\n",
        "        for to_index in range(max(1,to_size//4)):\n",
        "            #Again, the max(1) is important here, because to_size is 3 for the last layer!\n",
        "            if verbose: print(f\"  generating output {to_index} into bufA\")\n",
        "            snippet += f\"bufA[{to_index}] = {vec(bias[to_index*4:to_index*4+4])}\"\n",
        "            for from_index in range(max(1,from_size//4)):\n",
        "                # the \"max\" in the above loop gives us a special case for the first layer,\n",
        "                # where there are only two inputs.\n",
        "                snippet += f\" + {mat(weight[0, 0, from_index*4:from_index*4+4, to_index*4:to_index*4+4])} * bufB[{from_index}]\"\n",
        "            if layer_i == 3:\n",
        "                snippet += f\" + in{to_index%4}\"\n",
        "            snippet += f\";\\n\"\n",
        "            \n",
        "        if to_size != 3:\n",
        "            if verbose: print(\"  Doing the activation into bufB \")\n",
        "            for to_index in range(to_size//4):\n",
        "                if activation == composite_activation:\n",
        "                    snippet += f\"tmp = sin(bufA[{to_index}]);\\n\"\n",
        "                    snippet += f\"bufB[{to_index}] = tmp/0.67;\\n\"\n",
        "                    snippet += f\"bufB[{to_index + to_size//4}] = (tmp*tmp) / 0.6;\\n\"\n",
        "                elif activation == composite_activation_unbiased:\n",
        "                    snippet += f\"tmp = sin(bufA[{to_index}]);\\n\"\n",
        "                    snippet += f\"bufB[{to_index}] = tmp/0.67;\\n\"\n",
        "                    snippet += f\"bufB[{to_index + to_size//4}] = (tmp*tmp - 0.45) / 0.396;\\n\"\n",
        "                    # return tf.concat([x/0.67, (x*x-0.45)/0.396], -1)\n",
        "                elif activation == periodic_activation:\n",
        "                    snippet += f\"bufB[{to_index}] = sin(bufA[{to_index}]);\\n\"\n",
        "                    snippet += f\"bufB[{to_index + to_size//4}] = cos(bufA[{to_index}]);\\n\"\n",
        "                elif activation == modulo_activation:\n",
        "                    snippet += f\"bufB[{to_index}] = mod(bufA[{to_index}], 2.0);\\n\"\n",
        "                    snippet += f\"bufB[{to_index + to_size//4}] = mod(bufA[{to_index}]+1.0, 2.0);\\n\"\n",
        "                elif activation == modsin_activation:\n",
        "                    snippet += f\"bufB[{to_index}] = mod(bufA[{to_index}], 2.0*3.14159) / (2.0*3.14159) - 0.5;\\n\"\n",
        "                    snippet += f\"bufB[{to_index + to_size//4}] = sin(bufA[{to_index}]) / 0.5;\\n\"\n",
        "    #                return tf.concat([tf.mod(x, 2.0*3.14159)/(2.0*3.14159)-0.5, tf.sin(x)/0.5], -1)\n",
        "\n",
        "                elif activation == relu_normalized:\n",
        "                    snippet += f\"bufB[{to_index}] = (max(bufA[{to_index}], 0.) - 0.4 / 0.58);\\n\"\n",
        "                    snippet += f\"bufB[{to_index + to_size//4}] = (max(-bufA[{to_index}], 0.) - 0.4 / 0.58);\\n\"\n",
        "\n",
        "                    #return (x-0.40)/0.58\n",
        "                    # return tf.concat([(x-0.40)/0.58, (xx-0.40)/0.58], -1)\n",
        "                else:\n",
        "                    raise ValueError(f\"Unknown activation: {activation.__name__}\")\n",
        "        else:\n",
        "            if verbose:\n",
        "                print(\"  Sigmoiding the last layer\")\n",
        "            # We just do a sigmoid at the last layer.\n",
        "            sigmoider = lambda s: f\"1. / (1. + exp(-{s}))\"\n",
        "            snippet += f\"return vec4(({sigmoider('bufA[0]')}).xyz, 1.0);\\n\"\n",
        "    snippet += \"}\\n\"\n",
        "    if mode==\"bookofshaders\":\n",
        "        snippet += f\"\"\"\n",
        "void main() {{\n",
        "    vec2 st = gl_FragCoord.xy/u_resolution.xy;\n",
        "\"\"\"\n",
        "        if fix_aspect:\n",
        "            snippet += f\"\"\"\n",
        "    st.x *= u_resolution.x/u_resolution.y;\n",
        "    st.x -= ((u_resolution.x / u_resolution.y) - 1.) /2.;\n",
        "\"\"\"\n",
        "        snippet += f\"\"\"\n",
        "    st = vec2(1., -1.) * 2. * (st - vec2(0.5, 0.5));\n",
        "\n",
        "    gl_FragColor = {fn_name}(st, sin(u_time), sin(2.*u_time), sin(3.*u_time), sin(4.*u_time));\n",
        "}}\n",
        "\"\"\"\n",
        "    elif mode == \"shadertoy\":\n",
        "        snippet += f\"\"\"\n",
        "void mainImage( out vec4 fragColor, in vec2 fragCoord ) {{\n",
        "    // Normalized pixel coordinates (from 0 to 1)\n",
        "    vec2 uv = fragCoord/iResolution.xy;\n",
        "    vec2 mouseNorm = (iMouse.xy / iResolution.xy) - vec2(0.5, 0.5);\n",
        "\n",
        "\"\"\"\n",
        "        if fix_aspect:\n",
        "            snippet += f\"\"\"\n",
        "    uv.x *= iResolution.x / iResolution.y;\n",
        "    uv.x -= ((iResolution.x / iResolution.y) - 1.) /2.;\n",
        "\"\"\"\n",
        "        snippet += f\"\"\"\n",
        "\n",
        "    // Shifted to the form expected by the CPPN\n",
        "    uv = vec2(1., -1.) * 2. * (uv - vec2(0.5, 0.5));\n",
        "    // Output to screen\n",
        "    fragColor = {fn_name}(uv, sin(iTime), sin(2.*iTime), sin(3.*iTime), sin(4.*iTime));\n",
        "}}\n",
        "        \"\"\"\n",
        "    elif mode == \"td\":\n",
        "        snippet += f\"\"\"\n",
        "void main() {{\n",
        "    // Normalized pixel coordinates (from 0 to 1)\n",
        "    vec2 uv = vUV.xy;\n",
        "\"\"\"\n",
        "        if fix_aspect:\n",
        "            snippet += f\"\"\"\n",
        "    // TODO: don't kow how to find the resolution of the GLSL Top output to fix aspect...\n",
        "\"\"\"\n",
        "        snippet += f\"\"\"\n",
        "\n",
        "    // Shifted to the form expected by the CPPN\n",
        "    uv.xy = vec2(1., -1.) * 2. * (uv.xy - vec2(0.5, 0.5));\n",
        "    // Output to screen\n",
        "    fragColor = TDOutputSwizzle({fn_name}(uv.xy, uIn0, uIn1, uIn2, uIn3));\n",
        "}}\n",
        "        \"\"\"\n",
        "    return snippet"
      ],
      "execution_count": null,
      "outputs": []
    },
    {
      "cell_type": "markdown",
      "metadata": {
        "id": "j74G28c2IhjG"
      },
      "source": [
        "# GLSL export"
      ]
    },
    {
      "cell_type": "code",
      "metadata": {
        "colab": {
          "base_uri": "https://localhost:8080/",
          "height": 107
        },
        "id": "EmC9mpJ87SsA",
        "outputId": "fd84a943-79d2-4596-cd6b-0c3ee27d31ca"
      },
      "source": [
        "cppn_to_glsl(evld)"
      ],
      "execution_count": null,
      "outputs": [
        {
          "output_type": "execute_result",
          "data": {
            "application/vnd.google.colaboratory.intrinsic+json": {
              "type": "string"
            },
            "text/plain": [
              "'\\n#define N_HIDDEN 24\\n\\nvec4 bufA[N_HIDDEN/4];\\nvec4 bufB[N_HIDDEN/2];\\n\\n\\nvec4 cppn_fn(vec2 coordinate, float in0, float in1, float in2, float in3) {\\n    vec4 tmp;\\n    bufB[0] = vec4(coordinate.x, coordinate.y, 0., 0.);\\nbufA[0] = vec4(-0.0944129,-0.1933993,-0.28949672,0.262625) + mat4(vec4(0.41581112146377563,-0.4226127862930298,0.6148977279663086,-0.5159242153167725),vec4(0.6522397994995117,-1.4032132625579834,-0.5392898917198181,0.20646803081035614),vec4(0.0,0.0,0.0,0.0),vec4(0.0,0.0,0.0,0.0)) * bufB[0];\\nbufA[1] = vec4(-0.038007226,0.3820075,0.2780375,0.33116898) + mat4(vec4(-0.164750874042511,0.6186392903327942,0.24181154370307922,-0.5191462635993958),vec4(0.21804934740066528,-0.4237729609012604,-0.7089636325836182,0.9342571496963501),vec4(0.0,0.0,0.0,0.0),vec4(0.0,0.0,0.0,0.0)) * bufB[0];\\nbufA[2] = vec4(-0.14791629,-0.30293626,0.1147422,0.093470566) + mat4(vec4(0.44662803411483765,0.539374589920044,1.2166270017623901,-0.060298386961221695),vec4(-0.09032276272773743,0.41450056433677673,-0.28837716579437256,-0.03194330260157585),vec4(0.0,0.0,0.0,0.0),vec4(0.0,0.0,0.0,0.0)) * bufB[0];\\nbufA[3] = vec4(0.15906769,0.10314791,-0.46741018,-0.10749554) + mat4(vec4(-0.0930357500910759,0.2767179608345032,0.10761213302612305,0.6665385365486145),vec4(0.9699234962463379,-0.42594602704048157,1.1038626432418823,-0.14996758103370667),vec4(0.0,0.0,0.0,0.0),vec4(0.0,0.0,0.0,0.0)) * bufB[0];\\nbufA[4] = vec4(-0.22250462,0.81510586,0.091837525,-0.09406132) + mat4(vec4(0.13064931333065033,-1.647461175918579,-0.33211222290992737,0.4490022361278534),vec4(0.0742247924208641,0.22481505572795868,-0.52297043800354,0.10911503434181213),vec4(0.0,0.0,0.0,0.0),vec4(0.0,0.0,0.0,0.0)) * bufB[0];\\nbufA[5] = vec4(-0.09724077,-0.112663224,0.17942607,0.008263693) + mat4(vec4(2.209573745727539,-0.3132593631744385,-0.2598205506801605,-0.07049916684627533),vec4(0.8706583976745605,-0.3601612448692322,0.24503999948501587,-0.002115401206538081),vec4(0.0,0.0,0.0,0.0),vec4(0.0,0.0,0.0,0.0)) * bufB[0];\\ntmp = sin(bufA[0]);\\nbufB[0] = tmp/0.67;\\nbufB[6] = (tmp*tmp) / 0.6;\\ntmp = sin(bufA[1]);\\nbufB[1] = tmp/0.67;\\nbufB[7] = (tmp*tmp) / 0.6;\\ntmp = sin(bufA[2]);\\nbufB[2] = tmp/0.67;\\nbufB[8] = (tmp*tmp) / 0.6;\\ntmp = sin(bufA[3]);\\nbufB[3] = tmp/0.67;\\nbufB[9] = (tmp*tmp) / 0.6;\\ntmp = sin(bufA[4]);\\nbufB[4] = tmp/0.67;\\nbufB[10] = (tmp*tmp) / 0.6;\\ntmp = sin(bufA[5]);\\nbufB[5] = tmp/0.67;\\nbufB[11] = (tmp*tmp) / 0.6;\\nbufA[0] = vec4(0.18729784,0.2605321,-0.32132918,-0.37031916) + mat4(vec4(0.07528548,0.09222833,-0.11515221,0.054238766),vec4(0.15747993,-0.11561357,-0.079091236,0.15309665),vec4(0.0011189359,-0.16181757,-0.018746592,-0.10385456),vec4(0.0023649053,-0.12355008,-0.07075008,-0.23360252)) * bufB[0] + mat4(vec4(0.04921562,0.036022667,-0.033208173,0.1999829),vec4(-0.27163827,0.0026300694,0.14498037,0.0027006287),vec4(-0.21889022,-0.01060383,-0.08563007,-0.010317018),vec4(-0.14777686,-0.20268378,0.026414428,-0.023596153)) * bufB[1] + mat4(vec4(-0.13384911,-0.051267732,0.10535729,-0.14960773),vec4(0.024531653,0.09389985,0.050686415,0.19866724),vec4(-0.04199724,-0.063415594,0.12140642,-0.27167588),vec4(0.16540201,-0.04520013,-0.16260777,-0.039640874)) * bufB[2] + mat4(vec4(-0.30589294,0.044191457,-0.0028743525,-0.1849652),vec4(-0.05088523,0.09004661,-0.10310463,-0.045858186),vec4(-0.076808475,-0.02140676,-0.056208085,0.056196004),vec4(-0.20587932,0.13603286,-0.02633027,0.069607094)) * bufB[3] + mat4(vec4(-0.06519925,0.15751466,-0.0715465,0.1634293),vec4(0.012239711,0.36183324,-0.18052033,0.096865125),vec4(-0.22845623,0.188685,0.09113894,-0.13611896),vec4(-0.04621725,-0.17991021,0.06615265,-0.13499708)) * bufB[4] + mat4(vec4(0.103171825,0.03580365,-0.069207855,0.05053503),vec4(0.067009665,0.011660777,-0.123710155,0.26827794),vec4(0.10067923,-0.027639205,0.24015331,-0.105272114),vec4(-0.056875177,-0.017168736,0.12749709,-0.059358675)) * bufB[5] + mat4(vec4(0.15610014,0.0025208695,-0.15849036,0.2889138),vec4(-0.065192424,0.45034644,-0.55811137,-0.0024847942),vec4(-0.07133867,-0.25540876,0.14235774,0.18614005),vec4(0.08630114,-0.1933897,-0.092311054,-0.112384684)) * bufB[6] + mat4(vec4(-0.043904196,-0.39793044,0.1828919,-0.09369018),vec4(-0.13566843,-0.14304225,0.23540194,-0.038872402),vec4(0.13119242,-0.074560806,-0.18906909,0.11177644),vec4(-0.29155707,-0.17931737,-0.012964118,-0.026629828)) * bufB[7] + mat4(vec4(0.31337643,-0.09371762,-0.1917458,0.0021128797),vec4(-0.0071872924,-0.15321745,-0.009834039,0.38918087),vec4(0.13750857,-0.2559882,0.23481701,0.05787199),vec4(-0.26226166,0.045465253,0.0021932523,0.013756387)) * bufB[8] + mat4(vec4(-0.008981113,0.24701719,-0.036098514,-0.14038442),vec4(-0.05082746,-0.14172009,0.121006094,-0.036262617),vec4(0.05500792,0.02156105,0.15760975,0.2249423),vec4(0.08725141,-0.10125012,0.012153352,0.3053739)) * bufB[9] + mat4(vec4(0.055743523,-0.056392647,0.13588536,0.087723665),vec4(-0.09094352,-0.05767246,-0.16083643,0.3241965),vec4(0.40788832,0.4355084,0.12790619,0.1956992),vec4(0.2838489,-0.02730338,-0.23739421,-0.035631783)) * bufB[10] + mat4(vec4(-0.20379728,-0.14339952,0.45416737,-0.16321677),vec4(0.25474986,-0.12833555,0.117008194,0.06347274),vec4(0.07616472,-0.19941302,0.3753769,0.07970724),vec4(-0.14348252,0.03996154,0.022265093,0.03508637)) * bufB[11];\\nbufA[1] = vec4(-0.5611655,-0.24928412,-0.2064914,-0.3260693) + mat4(vec4(0.2044711,0.14462346,0.15608488,-0.012230991),vec4(0.05446071,0.462535,-0.051629893,0.028941823),vec4(0.17450042,0.108868346,-0.041254926,-0.046683755),vec4(0.08156752,-0.085468836,0.062306177,0.1388702)) * bufB[0] + mat4(vec4(0.046894748,0.015840542,0.105946764,0.20388395),vec4(-0.15648177,-0.16276576,0.18421632,-0.035679743),vec4(-0.10766837,0.08013167,0.25260037,0.17991345),vec4(0.14665672,-0.40552312,0.03930096,-0.0684723)) * bufB[1] + mat4(vec4(0.3191627,0.012342074,-0.1970872,0.0008975048),vec4(0.18399037,-0.1567907,0.03228501,-0.27078196),vec4(-0.062054247,-0.024643758,-0.14671159,-0.085426904),vec4(-0.07298281,-0.09813189,-0.069442585,0.25370383)) * bufB[2] + mat4(vec4(-0.078363776,-0.14200762,0.031284057,0.008615511),vec4(-0.06645878,0.119924985,-0.1378362,-0.22125034),vec4(0.22740768,-0.44019127,-0.17987292,-0.3437722),vec4(0.06685701,0.2717562,-0.26757824,0.16392046)) * bufB[3] + mat4(vec4(0.092594996,0.034077227,-0.08167018,-0.02765141),vec4(-0.18939799,0.21071763,-0.025029564,0.43611097),vec4(0.10640469,0.07102353,-0.050685514,0.13619298),vec4(0.08036328,0.15806189,-0.0013033502,-0.22624962)) * bufB[4] + mat4(vec4(-0.0117382975,0.233232,0.108194485,0.048792623),vec4(-0.066222705,0.052864585,0.0649652,-0.0987334),vec4(-0.43796998,0.4095853,-0.06817246,0.120494775),vec4(0.10519968,0.037508182,0.10907068,0.030084265)) * bufB[5] + mat4(vec4(0.52273476,0.23769926,0.04159187,-0.26342723),vec4(0.13442999,0.36987922,0.043027487,0.0881625),vec4(0.28605366,-0.665185,0.010325421,-0.019585215),vec4(0.03610081,-0.34932673,-0.025794541,0.0016470255)) * bufB[6] + mat4(vec4(0.20098701,-0.28974232,0.042603854,0.2624023),vec4(-0.14724785,-0.01600598,-0.012840779,0.14772508),vec4(0.4294746,-0.18694896,0.16380706,0.0747358),vec4(0.35859087,-0.45475248,-0.031632446,-0.20155008)) * bufB[7] + mat4(vec4(-0.019323505,-0.30350703,-0.15374601,0.06501696),vec4(0.09683573,-0.04043895,0.0045500402,-0.23273592),vec4(0.004765937,-0.066107504,0.052479085,-0.11567175),vec4(0.07162949,0.06629814,-0.027346166,-0.21398066)) * bufB[8] + mat4(vec4(0.06326463,-0.05820684,-0.05187147,0.1454291),vec4(0.08301831,-0.15511961,0.049528684,0.1473579),vec4(0.43382227,0.3491508,0.0450971,-0.16101536),vec4(-0.06476541,0.121174574,-0.18037243,-0.29894188)) * bufB[9] + mat4(vec4(-0.16940935,0.08570104,0.065567605,-0.18022896),vec4(-0.20197767,-0.43069786,-0.22164118,-0.07868481),vec4(0.2654744,0.038439948,-0.057103824,-0.15821865),vec4(-0.0347203,0.13252313,-0.12179798,-0.069086425)) * bufB[10] + mat4(vec4(-0.11572062,0.100330375,-0.02327901,0.12135965),vec4(0.2202357,0.27228624,0.21599738,0.121013656),vec4(-0.07372725,-0.4835881,-0.106379785,0.013626815),vec4(-0.07401539,-0.12253809,-0.10989411,0.020698816)) * bufB[11];\\nbufA[2] = vec4(-0.56504655,-0.3759989,-0.45356312,-0.0053351806) + mat4(vec4(0.047282945,0.10548982,0.17696963,0.03475044),vec4(-0.27499855,0.0392024,-0.27264884,-0.43417493),vec4(-0.009354685,0.015044925,-0.11437631,0.046739157),vec4(-0.37557533,0.14955036,0.18495722,0.322263)) * bufB[0] + mat4(vec4(-0.033938367,-0.08304304,0.06904146,-0.20597097),vec4(0.09804905,-0.042246073,0.073841296,0.3442421),vec4(-0.046335965,0.03496514,0.26305273,0.12945028),vec4(-0.098534204,-0.12217349,-0.073776536,0.12198454)) * bufB[1] + mat4(vec4(0.052313752,-0.07181559,-0.20124447,0.17713869),vec4(0.22798322,0.15908737,-0.17271398,-0.32350242),vec4(0.009263227,0.1270988,0.15155695,0.33221403),vec4(-0.06957845,0.104340434,0.07190079,-0.04395725)) * bufB[2] + mat4(vec4(0.06904358,-0.014154983,-0.02206963,-0.10894842),vec4(0.22981691,-0.10400669,0.10683939,0.18895395),vec4(0.2660784,-0.17288865,0.024373448,-0.2069602),vec4(-0.024416972,-0.03310571,-0.025896398,0.19978318)) * bufB[3] + mat4(vec4(0.13919343,0.04768776,-0.17226364,0.040891606),vec4(-0.20733038,0.017634057,0.09583975,0.3101429),vec4(0.09204676,-0.13099118,0.18403584,0.22293006),vec4(-0.07636417,0.03330624,-0.041591987,-0.053419627)) * bufB[4] + mat4(vec4(0.1886975,-0.07217477,-0.013426176,-0.11528187),vec4(0.06451237,-0.09231497,0.09212087,0.09722548),vec4(-0.3617027,-0.18478312,-0.16613413,-0.2819625),vec4(-0.17557444,0.05903012,0.02182171,0.022542223)) * bufB[5] + mat4(vec4(0.0027304727,0.15454967,-0.24559633,-0.36491948),vec4(0.45903894,0.062114697,0.20281434,0.19515313),vec4(0.016254093,0.12772407,0.15115522,-0.29865146),vec4(-0.0026243327,-0.009901781,-0.014112935,-0.06426787)) * bufB[6] + mat4(vec4(-0.03105972,-0.05491036,-0.3178905,-0.27336383),vec4(-0.0030344394,-0.0321111,0.16230272,0.052578475),vec4(-0.07977193,-0.02094074,-0.1407353,-0.31511202),vec4(0.40074626,-0.11502736,0.3664863,-0.22649045)) * bufB[7] + mat4(vec4(0.15602379,0.12856603,-0.10641134,-0.0015094137),vec4(0.01437635,0.0344545,-0.07065369,-0.275238),vec4(0.26226252,0.077499375,-0.20192283,-0.0623788),vec4(0.3051944,0.10156637,-0.09301442,0.05233445)) * bufB[8] + mat4(vec4(0.085797444,0.24838912,0.07433439,-0.1736303),vec4(-0.028229678,-0.108969994,-0.052269693,-0.22230291),vec4(0.021423738,-0.12307336,0.061367847,-0.08498417),vec4(0.23600926,0.083124705,0.001775384,0.022233035)) * bufB[9] + mat4(vec4(-0.0906433,0.090267986,0.012723574,0.103022784),vec4(0.086431466,0.34734157,-0.078839645,0.12782991),vec4(-0.1144003,-0.19004633,-0.32384726,-0.5264109),vec4(-0.02998189,0.2479405,-0.13188708,0.14086929)) * bufB[10] + mat4(vec4(-0.017371725,-0.070265986,0.10260126,-0.039422605),vec4(-0.12375225,0.008683347,-0.35496294,-0.26999757),vec4(-0.17237714,-0.18856548,-0.046901893,-0.27184087),vec4(-0.21926345,0.11196498,-0.13325661,0.014751016)) * bufB[11];\\nbufA[3] = vec4(0.045100696,0.15353313,-0.2716543,0.09192999) + mat4(vec4(-0.039265733,-0.042649537,-0.016986227,-0.31396022),vec4(0.018786853,-0.008514091,-0.34839904,-0.2127111),vec4(-0.20153503,-0.021923278,0.028927837,-0.2317101),vec4(-0.27044728,-0.012322456,-0.19149855,-0.027782397)) * bufB[0] + mat4(vec4(-0.075849116,-0.15640748,-0.18275413,-0.026503041),vec4(-0.06905602,-0.23423947,0.11611448,0.017846575),vec4(-0.13011095,-0.1649831,-0.064069755,-0.06809001),vec4(-0.2935236,-0.068734206,0.18506038,0.04073921)) * bufB[1] + mat4(vec4(-0.16885546,0.04105355,0.10099559,0.062112655),vec4(0.07023687,-0.19799462,-0.063941196,-0.02119042),vec4(-0.028121104,-0.08079835,-0.008036377,0.31071985),vec4(0.14288418,0.09399638,0.2888782,0.2300294)) * bufB[2] + mat4(vec4(-0.106185794,0.060270976,0.21402726,0.1455954),vec4(-0.09180112,-0.29006392,0.019178241,0.21622637),vec4(-0.028565021,0.37759155,0.10374601,-0.047391657),vec4(-0.0031806887,-0.1661629,0.3003443,0.05043123)) * bufB[3] + mat4(vec4(0.01690138,0.046814013,-0.096578754,-0.043079864),vec4(0.030923769,-0.041629635,0.0059706974,-0.31212792),vec4(-0.12123993,0.01699758,0.008862732,0.20270747),vec4(0.14386459,-0.19413316,0.07980217,-0.16850719)) * bufB[4] + mat4(vec4(-0.1683382,0.30353132,-0.28876022,-0.20435034),vec4(0.021262128,0.16071141,-0.37144843,0.021710347),vec4(0.099790946,0.0080580255,0.15089963,0.30520612),vec4(-0.009572364,0.111190096,-0.0105533395,-0.056591216)) * bufB[5] + mat4(vec4(0.10386642,0.050483044,-0.312883,0.031565838),vec4(-0.067553736,0.17323537,-0.2057313,0.47270507),vec4(0.29099014,0.33831096,0.013224408,0.015490067),vec4(0.027920607,0.24993701,-0.011870429,-0.24178435)) * bufB[6] + mat4(vec4(-0.01363587,0.2020575,-0.025755562,-0.2309068),vec4(0.1367843,0.08964196,0.52197605,0.14762682),vec4(-0.054047987,0.23431566,0.14758703,-0.13501674),vec4(0.17627934,-0.041267354,0.13033415,0.099535406)) * bufB[7] + mat4(vec4(-0.2536506,0.16031408,0.053531338,-0.08986688),vec4(0.13006164,-0.023838585,-0.081530556,0.05898303),vec4(0.022301972,0.048432644,0.0114178825,0.28295845),vec4(-0.14350466,-0.048347462,-0.10216187,-0.017842988)) * bufB[8] + mat4(vec4(-0.04850162,-0.123031154,0.303638,0.03433867),vec4(0.13737231,0.2679083,0.54636306,-0.18809648),vec4(-0.2946958,0.25831255,-0.22804388,-0.20405154),vec4(0.016610643,0.0926913,0.06504856,-0.0012922977)) * bufB[9] + mat4(vec4(-0.08673699,0.1415598,-0.22476643,-0.14349361),vec4(0.22248688,-0.26305243,0.2535149,-0.27021274),vec4(0.28945792,-0.16057661,-0.09349752,-0.27221543),vec4(-0.049249593,-0.29418436,-0.39872998,-0.040858284)) * bufB[10] + mat4(vec4(-0.12866783,-0.26912355,-0.21744211,-0.48191315),vec4(0.11554396,0.026568286,-0.34323832,0.03266896),vec4(-0.28502712,0.11497038,0.08452237,-0.096907355),vec4(-0.15174675,0.0049092877,-0.048792202,0.18206336)) * bufB[11];\\nbufA[4] = vec4(-0.3799749,-0.34944895,0.23975767,0.19557218) + mat4(vec4(-0.2626101,-0.08023763,-0.055438798,-0.05630845),vec4(-0.21190053,0.16071048,0.09790612,0.035362303),vec4(-0.0026882612,-0.08131032,0.06777259,-0.3425874),vec4(0.031956397,0.46550816,-0.2103383,0.19624592)) * bufB[0] + mat4(vec4(0.14119032,0.082411796,-0.17907137,0.09655609),vec4(0.07364584,0.30954444,-0.08878171,0.258585),vec4(-0.29576007,0.17617775,-0.17603463,-0.019532295),vec4(-0.30228516,-0.0021447875,0.17268501,0.12720424)) * bufB[1] + mat4(vec4(-0.053592883,0.092836164,-0.0019141922,-0.18472713),vec4(0.19458637,0.26769412,-0.11766373,-0.05060821),vec4(-0.2722809,-0.2467074,-0.12126772,-0.25678688),vec4(-0.20609295,0.1409809,0.109594144,0.03280416)) * bufB[2] + mat4(vec4(-0.07495263,0.06251746,0.18588808,0.08065861),vec4(-0.13864468,0.1183279,-0.035067137,-0.079888515),vec4(0.059362195,-0.048686508,0.06884113,-0.056569606),vec4(-0.08013989,0.07645863,-0.07916276,0.0046673613)) * bufB[3] + mat4(vec4(0.10701392,-0.28384072,0.21178274,-0.004689113),vec4(-0.31046575,-0.00037224195,0.10889443,-0.016757654),vec4(-0.15113144,-0.07975732,-0.10723046,-0.022717053),vec4(-0.19656111,0.07737282,0.22317223,0.050582398)) * bufB[4] + mat4(vec4(-0.091579325,0.10765367,0.24308206,-0.090662725),vec4(0.3191282,-0.052759588,-0.111894034,0.007847826),vec4(0.0043284865,0.018073972,0.33981448,-0.010328072),vec4(0.02816201,-0.075976625,-0.09775603,0.053847127)) * bufB[5] + mat4(vec4(-0.037005465,0.052409377,-0.33218804,0.045053706),vec4(0.15096374,-0.2865719,-0.29032382,-0.31858206),vec4(0.1676445,-0.1037125,0.25979367,0.010784111),vec4(-0.105489746,0.0017200089,0.29546988,0.15896143)) * bufB[6] + mat4(vec4(0.16188473,-0.13447386,0.016603885,0.037025418),vec4(0.18600543,0.014977537,-0.12588385,0.20829372),vec4(-0.022085441,0.16801646,0.22182882,-0.059651222),vec4(-0.002413904,0.028454807,0.08813811,-0.24805348)) * bufB[7] + mat4(vec4(-0.13674727,-0.21641643,-0.16822375,0.066411525),vec4(0.33624092,-0.08106045,-0.43886697,0.11764225),vec4(-0.25046748,-0.18825649,0.16262408,0.37640923),vec4(0.20625824,-0.047016595,0.009026688,0.25882733)) * bufB[8] + mat4(vec4(0.30830735,0.023879461,-0.12356217,-0.2897888),vec4(0.30177453,0.04716946,0.21556969,0.13378792),vec4(0.0612774,0.2543176,0.14881574,-0.20480628),vec4(0.0411331,-0.25520402,0.41241845,-0.0049750237)) * bufB[9] + mat4(vec4(-0.12033495,-0.14150804,-0.06070216,0.0666833),vec4(-0.23578127,-0.07715667,0.19491974,-0.49528536),vec4(0.04904613,0.18326382,-0.26377153,0.08280692),vec4(0.21960926,0.04483032,0.06499484,0.2695865)) * bufB[10] + mat4(vec4(0.71950907,0.08680667,-0.52056193,0.2840479),vec4(0.0225209,-0.006450044,0.061929718,0.21539055),vec4(-0.004395706,0.18434998,0.09772759,0.0064010774),vec4(-0.18483424,0.14050683,0.0068046087,0.19041161)) * bufB[11];\\nbufA[5] = vec4(0.44678766,0.19088283,0.3160068,-0.12177275) + mat4(vec4(-0.13546653,0.1058285,0.15458818,-0.09653304),vec4(-0.07908627,0.05071308,0.27141446,-0.13242811),vec4(-0.14216316,-0.027801206,-0.13449372,0.07851844),vec4(0.18257028,0.14991528,0.18816765,-0.15619792)) * bufB[0] + mat4(vec4(-0.1256994,0.07926988,0.18635257,-0.02463492),vec4(-0.13894933,-0.04544346,-0.42742229,-0.030072529),vec4(-0.009657798,0.010480853,-0.2358252,0.054994207),vec4(0.17730202,0.05663157,0.39553332,0.029235717)) * bufB[1] + mat4(vec4(-0.08471788,-0.1628021,-0.18348141,0.3786269),vec4(-0.29108992,-0.13495389,0.2267434,0.3083838),vec4(-0.19130878,0.02666363,-0.09416394,-0.35162225),vec4(0.124345124,-0.04607957,-0.005923066,-0.18186484)) * bufB[2] + mat4(vec4(0.16779469,-0.14474744,-0.042047184,0.09547089),vec4(-0.12555324,-0.1898858,0.39741224,-0.08194026),vec4(0.08903383,-0.021253403,-0.075394645,0.165956),vec4(-0.1751827,-0.14812925,0.06945587,0.05731587)) * bufB[3] + mat4(vec4(-0.2100259,-0.12409613,0.06816117,0.10781084),vec4(-0.2517193,0.3150873,-0.12753955,-0.46061566),vec4(0.2622563,0.03491778,0.06973946,0.16271192),vec4(-0.44050756,0.17021447,0.100731194,0.18879528)) * bufB[4] + mat4(vec4(0.14959231,0.28667378,0.31821203,-0.20708531),vec4(-0.0150573235,-0.002289846,0.14909245,0.251265),vec4(0.075167835,0.30196998,0.38326022,-0.58099943),vec4(0.0906212,0.062005423,0.00095415686,-0.000108336855)) * bufB[5] + mat4(vec4(-0.16356759,0.21831757,-0.11897714,0.25858742),vec4(0.012291569,0.02238306,-0.6299735,0.29503995),vec4(0.14868188,-0.17860737,0.0714606,0.18257324),vec4(0.13770375,-0.12983415,0.22124621,0.050617166)) * bufB[6] + mat4(vec4(0.058838304,-0.06913767,-0.39079657,0.07969333),vec4(0.105780095,0.30767152,-0.0051435702,-0.0030433421),vec4(-0.18531832,0.164246,-0.13102569,-0.32930252),vec4(-0.22246438,-0.006828006,-0.042745307,0.13302723)) * bufB[7] + mat4(vec4(0.18568994,-0.25487638,0.29791108,0.09075608),vec4(0.10165846,0.047757432,-0.20897776,0.23866582),vec4(0.4949063,-0.1460095,-0.38418275,0.25174326),vec4(0.1834596,0.017628122,0.040931106,-0.060425878)) * bufB[8] + mat4(vec4(-0.05355762,0.28419986,-0.083976,0.15443753),vec4(-0.09581641,0.05665007,-0.13641797,0.15537575),vec4(-0.1400124,0.2709267,0.03888849,-0.11061107),vec4(0.26200357,-0.27039585,0.32757708,0.050562833)) * bufB[9] + mat4(vec4(-0.12413505,0.12426922,-0.05729808,-0.30165586),vec4(-0.41377446,-0.49222562,0.15806426,0.46976703),vec4(-0.093509905,0.08642062,-0.5329437,0.30804443),vec4(0.035084188,-0.23408678,0.18110934,0.43717232)) * bufB[10] + mat4(vec4(0.20299941,-0.52580816,0.04809576,-0.16722995),vec4(-0.5044771,0.008105667,0.033164922,0.14825256),vec4(-0.03508922,-0.117727086,-0.030130366,0.11290958),vec4(0.21004967,-0.15126896,0.20150319,0.11899323)) * bufB[11];\\ntmp = sin(bufA[0]);\\nbufB[0] = tmp/0.67;\\nbufB[6] = (tmp*tmp) / 0.6;\\ntmp = sin(bufA[1]);\\nbufB[1] = tmp/0.67;\\nbufB[7] = (tmp*tmp) / 0.6;\\ntmp = sin(bufA[2]);\\nbufB[2] = tmp/0.67;\\nbufB[8] = (tmp*tmp) / 0.6;\\ntmp = sin(bufA[3]);\\nbufB[3] = tmp/0.67;\\nbufB[9] = (tmp*tmp) / 0.6;\\ntmp = sin(bufA[4]);\\nbufB[4] = tmp/0.67;\\nbufB[10] = (tmp*tmp) / 0.6;\\ntmp = sin(bufA[5]);\\nbufB[5] = tmp/0.67;\\nbufB[11] = (tmp*tmp) / 0.6;\\nbufA[0] = vec4(-0.23101051,-0.4405457,-0.028852444,-0.21828131) + mat4(vec4(0.046101283,0.11824605,-0.15068495,0.03334561),vec4(-0.05140561,-0.0006547769,0.17892662,-0.07733696),vec4(0.17395362,-0.0201635,-0.13795295,-0.09415099),vec4(-0.16384335,0.03455891,-0.022178179,0.033042524)) * bufB[0] + mat4(vec4(-0.1901485,-0.07031804,0.14484312,-0.32606977),vec4(0.037860233,-0.08072992,-0.011388807,0.06223955),vec4(0.010048818,0.015879534,-0.026829448,0.001906515),vec4(-0.0055376487,-0.062542036,0.04622894,0.17961754)) * bufB[1] + mat4(vec4(0.14397228,-0.031948414,0.2717677,-0.038299825),vec4(-0.04708207,-0.033691593,0.0016286224,-0.0031695368),vec4(0.11098976,-0.19855969,0.14441682,-0.034614768),vec4(0.311665,0.06887632,-0.67526317,0.8768873)) * bufB[2] + mat4(vec4(-0.17079186,0.06765754,0.019295117,-0.0013119952),vec4(0.18820511,0.09364158,0.13911027,-0.15701576),vec4(0.07551095,0.12614353,0.18495636,-0.15826951),vec4(0.11815465,0.09998208,0.083937176,-0.077803746)) * bufB[3] + mat4(vec4(-0.1814779,0.25824735,0.11752795,-0.052188464),vec4(0.072941266,0.0840672,-0.01940918,-0.07643521),vec4(0.08023893,-0.23602714,0.20830387,-0.15379594),vec4(-0.005680156,0.04203502,-0.007098627,-0.06639187)) * bufB[4] + mat4(vec4(0.12680495,-0.045429487,-0.07179372,-0.15146703),vec4(0.2855514,0.2121379,0.03686353,0.20922485),vec4(0.015484549,0.2945005,0.18497816,0.1668768),vec4(-0.31209737,0.23501141,0.11963593,0.009625597)) * bufB[5] + mat4(vec4(0.04531262,-0.018025678,-0.12783414,0.086078174),vec4(0.10568574,0.09585165,0.121752925,0.1736864),vec4(0.12537484,-0.097257845,0.13102692,0.23453982),vec4(0.072352886,0.1188493,-0.10737245,0.04978069)) * bufB[6] + mat4(vec4(-0.5355005,-0.007414364,-0.06474103,0.1548086),vec4(0.098692074,-0.13003309,0.18797454,0.07666673),vec4(-0.2695193,-0.13659687,-0.00040328456,0.07199165),vec4(-0.2083818,0.018321957,-0.04758939,0.0546595)) * bufB[7] + mat4(vec4(-0.4308543,-0.16847083,-0.45173422,-0.23054941),vec4(-0.26304105,-0.016052289,0.09081197,0.047166128),vec4(-0.08319897,0.14376728,-0.0007394325,-0.06304774),vec4(-0.16795291,-0.13078274,0.11857041,-0.21474014)) * bufB[8] + mat4(vec4(0.015767448,0.028024413,-0.038902737,-0.09092063),vec4(0.17530054,0.029508281,0.101071954,0.010654066),vec4(-0.18077987,0.20408982,0.017924896,-0.04629602),vec4(-0.031264663,0.14265248,-0.26885894,-0.04991688)) * bufB[9] + mat4(vec4(-0.15157266,0.35547143,-0.18765356,-0.055548783),vec4(0.113825195,0.022816785,0.18431108,-0.11593723),vec4(0.2543015,0.26419047,-0.034840617,-0.1245268),vec4(0.0053379973,0.06335608,-0.19199643,-0.10549363)) * bufB[10] + mat4(vec4(0.34671843,-0.04939604,0.06874615,0.10354186),vec4(-0.26698536,0.51385665,0.27384952,0.1833643),vec4(0.17355357,-0.09189842,-0.336821,-0.24192972),vec4(-0.44883862,0.41853386,0.0485977,0.023623114)) * bufB[11];\\nbufA[1] = vec4(-0.11042554,-0.3613166,-0.3915904,-0.108756036) + mat4(vec4(-0.1694329,-0.0086092325,-0.18934247,0.11113435),vec4(-0.021440247,0.19260944,0.12592801,0.15612642),vec4(0.068732925,-0.052587286,-0.008413262,-0.08407729),vec4(-0.17916434,0.00047823423,-0.2759183,0.10973543)) * bufB[0] + mat4(vec4(-0.28595474,0.07634437,-0.19062813,-0.057904944),vec4(0.1433122,0.105556086,0.26977718,0.29794195),vec4(0.048346348,-0.073493436,-0.009376225,0.039277017),vec4(0.08108639,0.07277154,0.011547085,-0.069194525)) * bufB[1] + mat4(vec4(-0.12149514,-0.10990226,-0.043178406,0.040932775),vec4(0.017797196,0.055147294,-0.022485303,-0.012406465),vec4(-0.059673034,0.089688204,0.25537738,0.1499533),vec4(0.26539546,-0.31810614,-0.2123063,-0.114645645)) * bufB[2] + mat4(vec4(-0.011825495,-0.060546476,-0.108433075,-0.08298171),vec4(0.15726742,-0.13413903,0.17265141,0.093740396),vec4(-0.043233834,0.16673788,0.111610256,-0.28351012),vec4(0.0376306,-0.15126786,0.04499486,-0.023913134)) * bufB[3] + mat4(vec4(0.15053856,0.27895764,-0.14976342,0.28059244),vec4(-0.06839616,-0.008773333,0.034179002,0.030918848),vec4(-0.078818984,-0.014945071,-0.09983405,0.17897429),vec4(0.17945224,0.040469944,0.012236986,0.018311618)) * bufB[4] + mat4(vec4(-0.014364302,0.11574879,0.23432413,-0.18910569),vec4(-0.010353943,-0.11250357,0.09583161,0.48836556),vec4(0.009543921,-0.45151132,-0.12331554,-0.14112991),vec4(-0.0588009,0.041949812,-0.19673333,0.03593035)) * bufB[5] + mat4(vec4(-0.11821108,-0.14497091,-0.36560774,0.23823945),vec4(0.15762964,0.12657213,-0.08372036,0.07776346),vec4(-0.024832847,0.16562447,0.28348893,0.14217013),vec4(0.24799049,-0.21941206,-0.0076540885,-0.07135525)) * bufB[6] + mat4(vec4(-0.36157262,-0.7706866,-0.38762698,-0.40600288),vec4(-0.0091082975,0.23942642,0.05103008,-0.15022027),vec4(-0.09730869,0.010854373,-0.05014297,0.01819998),vec4(-0.25781584,0.25582296,0.024004508,-0.072087385)) * bufB[7] + mat4(vec4(-0.28774923,0.26924485,-0.07452933,-0.043001052),vec4(0.20239879,0.018106192,-0.024569536,0.109385595),vec4(0.10304223,0.11018852,-0.050644737,0.1855329),vec4(-0.07482047,-0.21586849,0.19241786,-0.1192927)) * bufB[8] + mat4(vec4(-0.025482243,0.21184333,-0.058982417,0.027718272),vec4(0.31832358,0.12374764,0.33167535,0.32221332),vec4(0.27126333,0.14596672,0.10600555,0.15015595),vec4(0.12959966,-0.14523187,-0.22944875,-0.1326855)) * bufB[9] + mat4(vec4(-0.3879808,-0.53676367,-0.32670557,0.22255646),vec4(0.04920609,0.099901594,0.21108873,0.0784597),vec4(0.28735068,0.02913539,0.37410015,0.5160384),vec4(0.14365855,-0.10860802,-0.09331706,-0.06548659)) * bufB[10] + mat4(vec4(0.09883455,0.11058238,0.2702247,-0.070269756),vec4(0.16610461,-0.1925303,-0.3236311,0.15513183),vec4(-0.17398646,0.08262255,0.10092964,-0.077937186),vec4(-0.3527817,-0.0866756,-0.38213772,-0.1823378)) * bufB[11];\\nbufA[2] = vec4(0.10748512,-0.28536895,0.22700334,-0.48431927) + mat4(vec4(-0.05077694,-0.3075281,-0.12874472,0.01875722),vec4(-0.0770795,-0.29002362,0.061728653,-0.12638919),vec4(0.0050164913,0.12880737,0.020608231,0.0886208),vec4(-0.05275384,-0.18137325,-0.1469371,0.0011290475)) * bufB[0] + mat4(vec4(0.07021946,-0.012446797,-0.20062935,0.18350412),vec4(-0.058283832,-0.1520239,0.18622112,-0.022279676),vec4(0.0028707725,0.041490328,-0.017196713,0.042981282),vec4(-0.0136224935,0.28324488,-0.07174148,-0.0043136324)) * bufB[1] + mat4(vec4(0.559514,-0.0025920318,-0.043126702,0.11615324),vec4(0.07293056,-0.070605405,0.035385355,-0.013544607),vec4(0.023878448,0.4822685,-0.13713823,-0.06323729),vec4(-0.059462387,-0.34500715,0.2066834,0.22622724)) * bufB[2] + mat4(vec4(-0.102994666,-0.081656784,-0.004477743,-0.11485748),vec4(0.07141463,0.35562146,-0.19822212,-0.109622926),vec4(0.10943555,0.042148244,0.059641853,0.076469),vec4(-0.05354979,0.20515408,0.11875017,0.12617388)) * bufB[3] + mat4(vec4(-0.20502043,0.30968797,-0.3903796,-0.10000828),vec4(-0.18710597,0.08231571,0.13659616,0.11978492),vec4(-0.18577677,-0.22907679,-0.02146516,0.013089974),vec4(-0.19476701,-0.07046624,-0.1802558,-0.020294262)) * bufB[4] + mat4(vec4(0.183804,-0.0004125969,-0.0890627,-0.15970992),vec4(-0.13755791,-0.0009800697,0.14227745,0.17057016),vec4(0.0056189587,0.030535955,-0.26129425,-0.26947483),vec4(0.18661019,-0.057024058,-0.012056802,-0.16664678)) * bufB[5] + mat4(vec4(-0.11310559,-0.108064845,-0.009812803,0.0349237),vec4(0.028280923,0.19336514,-0.01858662,-0.08064881),vec4(0.31333205,0.0005613307,0.014583529,-0.04969716),vec4(0.3937308,-0.08542153,-0.06974765,-0.36035064)) * bufB[6] + mat4(vec4(0.09755663,-0.57642627,-0.07220999,-0.1770399),vec4(0.5889793,0.168763,0.3699386,0.19513993),vec4(0.08094438,-0.03699607,0.15606162,0.02462925),vec4(-0.28282633,-0.39724198,-0.03940519,0.20302613)) * bufB[7] + mat4(vec4(-0.27926695,-0.33647513,-0.18972288,0.12736252),vec4(0.007252414,-0.115156956,0.10799244,-0.12338129),vec4(-0.10751258,-0.14767031,0.07382736,-0.04039178),vec4(-0.2274303,0.37549743,-0.6923698,0.14881258)) * bufB[8] + mat4(vec4(0.05403319,0.2325825,0.047600053,0.03014086),vec4(-0.23727274,0.12807931,-0.7508074,0.12440035),vec4(0.27497327,-0.39590335,-0.15373677,-0.16707362),vec4(0.37181982,0.005052632,-0.088509984,-0.15940458)) * bufB[9] + mat4(vec4(-0.29451743,-0.6240163,-0.47188547,0.18523628),vec4(-0.14480369,0.099104464,-0.26696098,0.04187165),vec4(0.43712577,0.018199503,0.019877248,-0.03504268),vec4(0.05551629,0.13224286,-0.4153322,-0.063373536)) * bufB[10] + mat4(vec4(0.12039528,0.12375869,0.21082549,-0.22086313),vec4(-0.17943306,0.050068382,0.080408305,0.19506058),vec4(0.24914406,0.25200635,0.12545197,0.20045783),vec4(-0.11729703,0.06295639,-0.33790275,0.45658728)) * bufB[11];\\nbufA[3] = vec4(0.48496297,-0.48208132,0.14779058,-0.2060584) + mat4(vec4(0.0807299,-0.016255395,-0.08682517,0.122672334),vec4(0.045796566,0.12482401,0.2300672,0.13378099),vec4(-0.0065366067,-0.4172724,-0.15330125,-0.13203898),vec4(0.10964489,0.2999492,0.049417768,-0.08098432)) * bufB[0] + mat4(vec4(0.651732,0.029048309,-0.1369064,0.015210026),vec4(0.050197143,0.121646106,0.22110161,0.519073),vec4(0.016984753,0.012036821,0.021558294,0.06946952),vec4(-0.26425663,0.46157643,0.16065904,0.034025192)) * bufB[1] + mat4(vec4(0.38207266,0.04341728,-0.094466805,-0.00764221),vec4(0.026467068,0.054358236,-0.055860203,0.015717316),vec4(-0.0027147837,0.33131972,0.19695242,-0.10444816),vec4(-0.34380448,-0.14918736,0.42344978,-0.45481265)) * bufB[2] + mat4(vec4(0.010493522,0.21664776,-0.15084645,-0.024559706),vec4(0.22519973,0.21507172,0.020479986,-0.052524783),vec4(0.083346024,-0.10877781,-0.018578414,-0.24867195),vec4(-0.020727614,-0.19303665,0.026857058,0.21114832)) * bufB[3] + mat4(vec4(0.10667512,0.24848706,-0.041754592,0.1845053),vec4(-0.106063016,-0.24386242,0.17885359,-0.24302788),vec4(0.101508275,-0.0497108,-0.055977933,-0.36275524),vec4(-0.13703918,-0.15560812,0.027769966,0.22057422)) * bufB[4] + mat4(vec4(-0.21139632,0.16736051,0.23018488,0.14775096),vec4(0.27999714,-0.06404173,0.3148508,-0.10582382),vec4(-0.018168736,0.1941506,-0.5064811,-0.109888546),vec4(0.08189953,0.04588102,-0.04452446,0.18645056)) * bufB[5] + mat4(vec4(0.10750057,0.07934788,-0.26892754,0.025789991),vec4(0.31637773,0.13962679,0.014956766,-0.1953371),vec4(0.045874998,0.0010192823,-0.038948115,-0.16246316),vec4(0.11044436,-0.041277617,-0.14734769,0.3336364)) * bufB[6] + mat4(vec4(-0.4863963,0.0720101,-0.5286002,0.111130856),vec4(0.31404242,0.07292488,0.2983487,-0.50148743),vec4(-0.06801076,-0.23795676,-0.041033827,-0.36988556),vec4(-0.07755719,-0.07662039,0.22410437,-0.03374076)) * bufB[7] + mat4(vec4(-0.12783326,-0.28611028,0.003368851,-0.0372288),vec4(0.0066378727,-0.3434898,-0.25761804,-0.0054286434),vec4(0.0012103741,-0.13358591,-0.011530521,-0.0036150487),vec4(-0.11176714,0.08463274,-0.3745869,0.44179022)) * bufB[8] + mat4(vec4(0.031753138,-0.30835974,0.14198661,0.13263045),vec4(0.13479038,0.017189294,0.035898983,-0.048483104),vec4(0.20119524,0.21150823,0.1510849,0.37693277),vec4(0.07440551,0.06273823,-0.016112003,0.05731475)) * bufB[9] + mat4(vec4(0.05001962,-0.23852664,-0.09518391,0.12411597),vec4(-0.15655167,0.10805072,0.08194649,-0.020813165),vec4(0.3192705,0.18154018,0.2637251,0.25625065),vec4(-0.2475502,0.057433475,-0.06647896,0.22061822)) * bufB[10] + mat4(vec4(-0.25779802,0.027098596,9.654451e-05,0.07990159),vec4(-0.090820864,-0.26499173,-0.06490599,-0.54846376),vec4(0.22861333,-0.39215058,0.6676482,0.20786041),vec4(0.062139012,-0.3597324,-0.3229075,-0.06404405)) * bufB[11];\\nbufA[4] = vec4(0.43927768,-0.05537547,-0.5715141,-0.3348312) + mat4(vec4(0.2053627,0.15609996,-0.078503005,0.08708054),vec4(0.078359045,-0.07134311,-0.048736658,-0.030160999),vec4(-0.015672378,0.032209754,0.017167063,0.0353785),vec4(0.107705094,0.0887656,-0.052843153,0.20842186)) * bufB[0] + mat4(vec4(-0.20800076,-0.029834924,0.08119281,0.02444671),vec4(0.5610348,0.1371762,0.083169274,0.040719915),vec4(0.019644001,-0.037618823,0.025608467,-0.014222532),vec4(-0.024052218,-0.05656874,0.016015848,-0.12270593)) * bufB[1] + mat4(vec4(-0.15388778,-0.005349972,0.0028554564,0.011869188),vec4(0.0046891877,-0.052290622,-0.0017047249,0.12894472),vec4(-0.023170542,-0.1829165,0.011473742,-0.1489692),vec4(0.40957242,-0.26750237,-0.17292759,-0.13628465)) * bufB[2] + mat4(vec4(0.046315446,0.08549031,0.08578834,0.09255165),vec4(-0.021432495,-0.082500756,-0.05094999,0.18429586),vec4(-0.20250942,-0.08018426,-0.21115187,-0.034511045),vec4(-0.019707013,0.22313444,-0.065257646,-0.18433277)) * bufB[3] + mat4(vec4(0.07882422,0.16930237,0.09477909,0.006382621),vec4(-0.10936819,0.01163064,0.025114238,0.0064569553),vec4(0.17986636,-0.052466583,-0.27044305,0.24487595),vec4(0.22161461,0.26142547,0.06459924,0.15356371)) * bufB[4] + mat4(vec4(0.12330314,-0.32273102,-0.046665974,0.12390164),vec4(0.1989602,-0.15741765,-0.3592819,-0.33944574),vec4(-0.24157438,-0.009790628,0.06405344,-0.101944335),vec4(0.052758384,0.22773157,-0.03178734,0.1619014)) * bufB[5] + mat4(vec4(0.327932,-0.059372433,-0.16130184,-0.15087119),vec4(-0.18902873,0.06602547,0.11944713,-0.29820263),vec4(0.17208056,0.022715546,-0.24550201,0.050354503),vec4(0.3555477,0.018806929,0.23651396,-0.031584114)) * bufB[6] + mat4(vec4(0.049231827,-0.28051287,0.06604147,0.023654368),vec4(-0.46320227,0.18918534,0.05399238,-0.21303482),vec4(-0.07748241,0.14610402,-0.045630053,-0.024770774),vec4(-0.16166195,0.22355257,-0.04026338,0.24876063)) * bufB[7] + mat4(vec4(-0.07774542,0.10495106,0.24099469,0.5331646),vec4(-0.09677833,-0.07452388,-0.01563861,0.07138597),vec4(0.022458473,0.22664344,-0.111513264,0.09766004),vec4(-0.032395605,-0.034040894,0.49522266,0.32250512)) * bufB[8] + mat4(vec4(-0.08046602,-0.10692762,-0.06498317,0.095432594),vec4(-0.0005239821,-0.08654838,-0.04641946,0.2222349),vec4(0.25516513,0.09365388,-0.030676588,0.15263829),vec4(-0.39909723,-0.19659705,-0.021438545,-0.28743795)) * bufB[9] + mat4(vec4(-0.13493928,-0.07077619,0.31399903,0.33748674),vec4(0.22322722,-0.09643814,0.053391997,-0.024600785),vec4(0.30225396,-0.21860142,-0.0064673703,-0.111273855),vec4(-0.045626875,-0.19095488,0.17493896,0.08461874)) * bufB[10] + mat4(vec4(0.13859583,0.09618694,-0.060644384,0.19480318),vec4(-0.4803476,-0.07106539,-0.39453584,-0.28078073),vec4(0.06740638,0.17173086,0.16330265,0.16569117),vec4(-0.46066236,0.2252776,0.26149255,0.07606597)) * bufB[11];\\nbufA[5] = vec4(-0.1612496,0.47478086,-0.59087306,0.24331261) + mat4(vec4(0.034047738,-0.26126197,-0.095822886,-0.15656257),vec4(0.00043889834,0.0081322435,0.09753794,-0.0017179872),vec4(-0.18547034,0.046790227,0.09020809,-0.046325684),vec4(-0.11676138,-0.15765584,0.08730406,-0.10809515)) * bufB[0] + mat4(vec4(-0.26009062,-0.404346,0.21470071,-0.14855948),vec4(-0.0313217,-0.12466618,0.17492314,-0.30133694),vec4(0.04070191,0.048233587,-0.08521938,0.04165057),vec4(0.108365,-0.118963614,0.13296501,-0.033821136)) * bufB[1] + mat4(vec4(-0.09750399,-0.05212826,-0.11232799,0.06943693),vec4(-0.020804657,-0.058344543,0.015282819,0.0071310247),vec4(0.10941868,0.075506076,-0.106508344,0.023585796),vec4(-0.25755584,-0.026743613,0.18101257,-0.11501518)) * bufB[2] + mat4(vec4(0.052590035,-0.18544842,0.17174931,-0.045636173),vec4(0.047484796,-0.027868414,-0.06964162,0.0798962),vec4(0.113142006,-0.12664644,0.012075718,0.03613817),vec4(0.3582991,-0.01725191,-0.1571808,-0.26254863)) * bufB[3] + mat4(vec4(-0.32972616,0.05348456,-0.068282224,-0.00829941),vec4(-0.07253647,-0.07435266,0.16216895,-0.061122265),vec4(-0.0034354825,-0.00904955,-0.045059867,0.3353391),vec4(0.055070754,0.37132835,-0.15020993,-0.11789313)) * bufB[4] + mat4(vec4(0.15376355,0.5041216,0.028528392,-0.061861373),vec4(0.21659791,-0.22563313,-0.31771612,0.30736706),vec4(-0.12242334,-0.02656547,0.21132202,-0.060852688),vec4(0.051838584,-0.19420736,-0.14977883,-0.054468952)) * bufB[5] + mat4(vec4(-0.23801738,0.000613143,-0.24813466,0.0028982752),vec4(-0.16481367,-0.30418238,-0.26191396,0.3775593),vec4(-0.26539478,-0.07758682,-0.17367025,0.23049006),vec4(-0.15073474,0.14939877,-0.010240628,0.07537488)) * bufB[6] + mat4(vec4(-0.053510074,0.47682497,-0.085475154,-0.16980936),vec4(0.025699355,-0.37364537,-0.51176536,0.35867816),vec4(0.117135584,0.0092632305,0.28013295,0.027401427),vec4(-0.13201857,-0.1234066,-0.15646866,-0.03715032)) * bufB[7] + mat4(vec4(0.02215492,-0.19130819,0.026558045,-0.19883543),vec4(-0.021417348,0.28578478,-0.029376296,-0.13258076),vec4(0.27470958,-0.17912915,0.20741375,-0.12129567),vec4(-0.0763838,-0.20143625,-0.36073157,0.097257465)) * bufB[8] + mat4(vec4(-0.066034034,0.3178504,0.0035562278,-0.16817646),vec4(-0.14760506,0.020104393,-0.39261764,0.17760472),vec4(0.11904505,-0.2647599,-0.19468372,0.09530704),vec4(-0.11346664,0.4534776,0.23806661,-0.124411)) * bufB[9] + mat4(vec4(-0.38719538,-0.019763077,0.016512552,0.4094739),vec4(0.26620838,-0.10421927,-0.2910159,-0.105250716),vec4(-0.09149254,0.11258795,-0.120675676,-0.19285722),vec4(0.052101575,0.20665494,-0.04036976,-0.054620285)) * bufB[10] + mat4(vec4(0.369441,0.21247804,0.20766221,-0.55232686),vec4(-0.28195602,-0.18559413,-0.33476678,-0.07203607),vec4(0.2638775,-0.39536285,0.034975186,0.016643288),vec4(0.23335247,-0.021728452,0.21569769,-0.05319694)) * bufB[11];\\ntmp = sin(bufA[0]);\\nbufB[0] = tmp/0.67;\\nbufB[6] = (tmp*tmp) / 0.6;\\ntmp = sin(bufA[1]);\\nbufB[1] = tmp/0.67;\\nbufB[7] = (tmp*tmp) / 0.6;\\ntmp = sin(bufA[2]);\\nbufB[2] = tmp/0.67;\\nbufB[8] = (tmp*tmp) / 0.6;\\ntmp = sin(bufA[3]);\\nbufB[3] = tmp/0.67;\\nbufB[9] = (tmp*tmp) / 0.6;\\ntmp = sin(bufA[4]);\\nbufB[4] = tmp/0.67;\\nbufB[10] = (tmp*tmp) / 0.6;\\ntmp = sin(bufA[5]);\\nbufB[5] = tmp/0.67;\\nbufB[11] = (tmp*tmp) / 0.6;\\nbufA[0] = vec4(-0.29800296,-0.057429004,-0.43015394,-0.070755616) + mat4(vec4(-0.009321935,0.21206418,-0.054143123,0.05752704),vec4(-0.3327234,-0.20315257,0.21750227,-0.2917466),vec4(-0.15724573,-0.19922061,0.16480398,-0.30620897),vec4(0.05408647,-0.16433246,0.4428423,0.23254025)) * bufB[0] + mat4(vec4(-0.039246142,-0.08053406,0.018179994,-0.029781336),vec4(-0.105505906,0.06988533,0.04004989,0.3512667),vec4(0.08484138,-0.050388288,0.10598883,0.03936612),vec4(-0.070555024,0.04389824,-0.14592513,-0.14688732)) * bufB[1] + mat4(vec4(0.039523832,-0.016309861,-0.14246435,-0.13863975),vec4(-0.036864385,0.27029327,0.1131075,0.26981083),vec4(0.22052738,0.0058679692,0.22869183,-0.054938115),vec4(0.25962725,0.0017771254,0.40275174,0.20949146)) * bufB[2] + mat4(vec4(-0.09180624,0.12873916,-0.14027046,0.07132523),vec4(-0.118532024,0.036699083,0.190364,-0.14022847),vec4(0.2284956,-0.3046464,-0.07962626,0.012319475),vec4(0.02283018,-0.014508367,-0.075778455,0.08263764)) * bufB[3] + mat4(vec4(0.16883282,-0.103574455,0.059035324,0.113170676),vec4(-0.26160073,0.21792221,-0.019151326,-0.006880948),vec4(0.022587381,0.21100198,-0.0057703177,0.124957345),vec4(0.11073205,-0.0280399,-0.13872108,-0.08983245)) * bufB[4] + mat4(vec4(0.13652793,-0.045165766,-0.0025994715,-0.17603603),vec4(-0.04881448,0.37504095,-0.099125236,0.048777737),vec4(0.061468426,0.19182727,0.049611587,-0.00397511),vec4(-0.089748174,-0.20888749,-0.019689374,-0.0102018155)) * bufB[5] + mat4(vec4(-0.11882953,0.14845122,-0.039776333,-0.31120613),vec4(0.04604087,-0.05203928,-0.0729873,-0.30964082),vec4(-0.20553175,0.050242368,-0.20616052,-0.07717726),vec4(0.15091044,-0.5583984,0.012647602,0.08866132)) * bufB[6] + mat4(vec4(-0.32547373,0.02096223,-0.07066527,-0.19761957),vec4(-0.095252074,0.30799568,0.22956723,0.14596055),vec4(-0.21490163,-0.08199913,0.068023264,0.1454266),vec4(0.0042321393,0.25461507,-0.0843192,-0.051393434)) * bufB[7] + mat4(vec4(0.13857837,-0.07819708,0.34630015,0.09681015),vec4(0.30798534,-0.23160326,-0.0021363243,-0.19552176),vec4(0.026689708,-0.015456062,-0.30409178,0.37370136),vec4(-0.113024004,-0.067562975,0.11106699,-0.2375976)) * bufB[8] + mat4(vec4(-0.08987538,0.22430074,0.19836892,0.2692309),vec4(-0.05552184,0.002439555,-0.31674924,-0.101876),vec4(0.25317246,-0.21765435,-0.190113,0.027771931),vec4(-0.2697766,-0.028376812,0.20171833,0.09751034)) * bufB[9] + mat4(vec4(0.10765986,0.040459827,0.2944808,3.8883547e-05),vec4(-0.20681119,0.24645565,-0.3289727,0.01580069),vec4(0.00251147,-0.07627355,-0.1455369,-0.017814768),vec4(-0.24239364,0.17071362,-0.02073503,-0.2197744)) * bufB[10] + mat4(vec4(0.21276571,0.04575838,0.076164745,-0.32053345),vec4(0.08713825,0.20462885,-0.09298447,-0.068769276),vec4(0.0041457666,0.05821113,0.06586019,-0.0062627536),vec4(-0.15591757,0.009454531,-0.054481696,-0.32195684)) * bufB[11] + in0;\\nbufA[1] = vec4(0.20062931,-0.58681417,-0.48056316,0.5323595) + mat4(vec4(0.045644004,0.19936223,0.10468797,0.107536495),vec4(0.14645566,-0.082827054,-0.048032492,-0.18008578),vec4(0.020904962,0.10742252,-0.023326982,-0.37026194),vec4(0.066004016,-0.04644888,0.122944385,-0.040753055)) * bufB[0] + mat4(vec4(-0.06034063,-0.026861707,0.17809492,-0.05961468),vec4(-0.19212988,0.13981888,0.004867785,0.09583754),vec4(-0.33316225,-0.028858872,0.102938935,0.13660735),vec4(-0.28418475,0.1466944,0.03395225,0.009749671)) * bufB[1] + mat4(vec4(-0.111822665,-0.069290176,0.19442399,0.18502192),vec4(-0.11694505,0.10011804,-0.114290744,0.15484086),vec4(0.055013806,0.05731828,-0.17352477,0.34544802),vec4(-0.46498963,0.20591277,-0.019981066,-0.010752391)) * bufB[2] + mat4(vec4(-0.1312443,0.26060456,0.112386495,0.18310846),vec4(0.229395,-0.2717986,-0.043998014,-0.06018507),vec4(0.097242415,-0.086978436,0.091314435,-0.111750275),vec4(-0.105332315,-0.10318518,-0.069155425,-0.021099843)) * bufB[3] + mat4(vec4(0.09891736,0.09280151,0.2640804,-0.027210569),vec4(-0.020080758,0.47444192,0.1616639,-0.19168928),vec4(0.0071306024,0.07453076,-0.008157726,0.061166838),vec4(0.227275,0.11380574,0.21375264,-0.19330953)) * bufB[4] + mat4(vec4(0.13401283,0.02985999,-0.023703756,-0.01096152),vec4(-0.20211044,-0.2852017,-0.16527492,-0.11274341),vec4(0.14045604,0.15625116,0.013776935,-0.020938361),vec4(0.02061359,-0.26588494,0.14548717,0.07105866)) * bufB[5] + mat4(vec4(-0.15283445,-0.015869817,0.15415129,-0.2777692),vec4(-0.18914562,-0.015369333,0.04180956,-0.18208607),vec4(-0.45946485,0.00985118,-0.25353298,0.028195867),vec4(-0.13581322,-0.06630898,0.16370323,0.024175165)) * bufB[6] + mat4(vec4(-0.10857557,0.010323985,-0.16258995,-0.1959815),vec4(0.13784763,-0.112652116,-0.1190366,0.1390835),vec4(-0.1862665,-0.13374047,0.0912048,-0.13832906),vec4(0.1293803,-0.14662986,0.12112856,0.16873199)) * bufB[7] + mat4(vec4(0.27805752,-0.13712151,-0.22187619,0.1575422),vec4(0.17198,0.22233832,0.21662895,0.0713709),vec4(0.00071656494,0.14119017,-0.1412986,0.20430955),vec4(-0.08776854,0.071917824,0.095390424,-0.19322939)) * bufB[8] + mat4(vec4(0.1168837,-0.21809089,0.10729743,-0.070968315),vec4(-0.12483827,0.18986553,-0.11192812,0.10767615),vec4(0.040525284,-0.020695966,0.45951414,-0.053180054),vec4(-0.33775166,-0.06127381,-0.14443164,-0.06817337)) * bufB[9] + mat4(vec4(-0.22706339,0.07450527,-0.18356161,-0.47269362),vec4(0.34781593,-0.63365346,0.1914592,-0.13139002),vec4(-0.0017361005,0.03717994,0.28541797,0.16696645),vec4(-0.041637037,-0.25093547,-0.13167436,0.04411775)) * bufB[10] + mat4(vec4(0.21805511,-0.13517728,0.01774395,-0.2871401),vec4(-0.12112223,-0.26211736,0.37838814,-0.38103276),vec4(-0.059762157,-0.3221661,-0.05137591,-0.07870052),vec4(-0.08686834,-0.4526763,-0.120465845,-0.13401)) * bufB[11] + in1;\\nbufA[2] = vec4(-0.36717427,0.2599014,0.071981326,-0.31264994) + mat4(vec4(-0.14874259,0.08580208,-0.082896486,-0.20700398),vec4(0.051598188,0.11642735,-0.05618202,-0.100474745),vec4(-0.060037788,0.38450477,-0.21524939,0.012902681),vec4(0.10194957,0.07012135,0.22397405,0.08073755)) * bufB[0] + mat4(vec4(-0.29580572,0.077968225,0.08800787,0.01862903),vec4(-0.2531083,0.011833279,-0.17869134,-0.18722004),vec4(-0.23945786,0.06385516,0.068832986,0.17356567),vec4(0.2204893,0.35205907,-0.32761422,0.30989543)) * bufB[1] + mat4(vec4(0.32500446,-0.04112052,-0.15449762,-0.023271652),vec4(-0.085950114,-0.012134485,0.15019323,-0.12820815),vec4(0.20877735,0.13617073,-0.05848982,0.08246278),vec4(-0.17402971,-0.040752545,-0.10968598,-0.021082832)) * bufB[2] + mat4(vec4(-0.015191933,0.3256184,-0.20834497,-0.35486257),vec4(-0.01592537,0.1609962,0.0022748383,0.39312318),vec4(0.059988696,-0.19003737,0.054986574,0.16964711),vec4(-0.4519519,0.13709213,0.0829107,-0.14814414)) * bufB[3] + mat4(vec4(-0.22540666,-0.19238196,-0.03523435,-0.3097139),vec4(-0.3133516,0.19580968,-0.26365858,-0.13073902),vec4(-0.19592838,0.30739444,0.075118706,-2.3218687e-05),vec4(-0.0850642,0.2966645,-0.114679165,-0.19362792)) * bufB[4] + mat4(vec4(-0.12083301,-0.053306792,-0.0013561707,-0.21736354),vec4(0.042291775,-0.31846994,0.14313388,-0.039404027),vec4(-0.098983034,0.07950398,0.10394747,-0.14367925),vec4(-0.15135615,0.11271766,-0.29968634,-0.13745414)) * bufB[5] + mat4(vec4(-0.020935625,0.02087713,-0.08223088,0.18422174),vec4(0.21252878,0.1811338,0.09539033,0.10183604),vec4(0.086212896,-0.23153104,-0.1460258,-0.06904767),vec4(-0.34962705,0.041463953,-0.009694139,0.036130182)) * bufB[6] + mat4(vec4(0.053327426,0.022878433,-0.10394775,0.045637507),vec4(0.61372185,-0.04048966,-0.08319743,0.36310795),vec4(0.27931333,0.30986375,-0.107609734,-0.03113639),vec4(0.13113052,-0.2581112,0.09836136,-0.13991353)) * bufB[7] + mat4(vec4(-0.33357802,0.19674592,-0.05187345,0.28531155),vec4(0.036387946,-0.16307405,0.31976745,-0.09829232),vec4(0.120050184,-0.20803668,0.07112819,-0.22442405),vec4(0.048666395,-0.34762883,-0.4343136,0.031513277)) * bufB[8] + mat4(vec4(0.44944352,-0.4872101,0.16362843,-0.05963878),vec4(-0.21306425,-0.116928734,-0.22862543,-0.2420472),vec4(-0.064058766,-0.17624162,-0.08566116,0.26585948),vec4(-0.16974749,0.2629922,-0.09797349,-0.07189723)) * bufB[9] + mat4(vec4(-0.3627748,0.14245316,-0.13287842,-0.07226549),vec4(-0.23266359,0.120404944,-0.08631193,-0.11974015),vec4(0.14257894,0.17595199,-0.046284683,-0.029340925),vec4(0.08647455,-0.181531,0.15558232,0.123778574)) * bufB[10] + mat4(vec4(0.08013029,-0.07999447,-0.046305887,0.20538864),vec4(0.20740904,-0.30488342,0.224849,-0.110743746),vec4(0.24671656,-0.26487324,0.1717565,-0.13669349),vec4(0.5384051,-0.16064987,0.028886953,-0.024257846)) * bufB[11] + in2;\\nbufA[3] = vec4(-0.34041506,0.026641706,0.4189677,0.3309388) + mat4(vec4(-0.09434505,0.30164474,-0.14164592,-0.07512796),vec4(-0.06945608,-0.110470295,0.16080277,-0.006982946),vec4(0.26495117,-0.20232251,-0.14035024,0.13998277),vec4(-0.049638998,0.60203826,-0.0066408613,0.13034056)) * bufB[0] + mat4(vec4(-0.07758346,0.2842614,-0.08353545,-0.2594826),vec4(0.21129306,0.12769416,-0.25310773,-0.09400617),vec4(-0.06496015,0.29523012,-0.07397725,-0.13712595),vec4(-0.009459969,-0.18550467,-0.085789,0.019351909)) * bufB[1] + mat4(vec4(0.019476691,0.17499249,-0.068832345,0.0028708433),vec4(0.074598216,0.07819043,-0.07240924,-0.2220341),vec4(-0.26251394,0.24165687,0.0016373633,0.04769911),vec4(-0.13641562,-0.097283155,-0.12767908,0.31783816)) * bufB[2] + mat4(vec4(0.31448263,0.21755385,-0.08347012,0.052943043),vec4(0.045170724,-0.18137915,-0.10501174,-0.05583726),vec4(-0.08964672,0.0567563,0.34119514,0.3093285),vec4(0.23067483,-0.0535583,-0.12920566,0.16044462)) * bufB[3] + mat4(vec4(0.1458902,0.29976565,0.16292644,-0.10806832),vec4(0.16870095,-0.038259726,-0.013016807,-0.17296988),vec4(-0.053591978,-0.008377749,-0.33120447,-0.010116433),vec4(0.043906022,-0.07702437,-0.19481902,0.06291485)) * bufB[4] + mat4(vec4(-0.026940988,0.12297669,-0.18756989,-0.024149582),vec4(-0.42535532,-0.0048242547,-0.0062320456,-0.07210225),vec4(0.079360865,-0.02437455,-0.21246214,0.05461079),vec4(-0.10115954,-0.058944497,0.05938697,0.17052492)) * bufB[5] + mat4(vec4(0.15351133,-0.15202242,0.25901118,0.28250054),vec4(-0.03210563,-0.14553808,0.17196946,0.28473118),vec4(-0.0805307,-0.5118844,-0.77027607,-0.07136955),vec4(-0.088483095,-0.24062555,0.09821665,-0.09704911)) * bufB[6] + mat4(vec4(-0.065539345,0.23162688,-0.30824256,0.12708561),vec4(0.1028257,0.06342322,0.09015984,0.15031028),vec4(0.09754881,-0.34437284,-0.17990336,-0.0986077),vec4(0.3194886,-0.07391393,0.21798359,-0.047532033)) * bufB[7] + mat4(vec4(0.22378643,-0.21987246,0.14975078,0.006511831),vec4(0.10183047,-0.36876464,0.3225052,-0.013005145),vec4(0.22501631,0.2132539,-0.19648498,-0.3348602),vec4(-0.310537,0.04695055,0.18323079,-0.11716093)) * bufB[8] + mat4(vec4(-0.24878445,-0.15331574,0.42058498,0.03935702),vec4(0.06744448,0.042812385,0.0219723,-0.07711253),vec4(0.019573847,0.49920708,0.22325034,-0.32224846),vec4(0.085732974,-0.50988704,-0.16552864,-0.09302955)) * bufB[9] + mat4(vec4(-0.102518834,-0.3583608,-0.35802102,-0.11080823),vec4(-0.083519824,0.2571916,-0.07692749,-0.010193301),vec4(0.008982782,0.19096546,0.24748524,0.06123349),vec4(0.09281084,0.15797517,0.4885967,-0.15501302)) * bufB[10] + mat4(vec4(0.3537814,-0.10815751,-0.07715537,0.1899457),vec4(-0.23192331,0.047267944,0.17756051,-0.30518326),vec4(-0.19427998,-0.07092472,-0.09743862,0.25365564),vec4(-0.10206906,-0.046631005,0.019306883,-0.079560794)) * bufB[11] + in3;\\nbufA[4] = vec4(0.14049125,0.31442606,0.51147753,-0.43801707) + mat4(vec4(-0.18113989,0.18597904,-0.20890895,-0.09111851),vec4(0.18189074,0.09125845,0.014538641,-0.15126733),vec4(0.06412085,0.04376542,0.10314968,-0.13805877),vec4(-0.23666798,-0.18541856,-0.13752632,0.33012772)) * bufB[0] + mat4(vec4(0.030434804,-0.06378335,-0.20337471,0.0767139),vec4(0.2561368,-0.2627302,0.01706115,0.19958346),vec4(-0.0053733233,0.004272837,-0.15315545,-0.08712184),vec4(-0.12323712,0.15734418,-0.14833125,-0.058316696)) * bufB[1] + mat4(vec4(0.036095552,-0.17137894,-0.20988093,-0.39690775),vec4(0.030633697,-0.044691045,0.14325279,0.038031954),vec4(-0.21035424,0.26628286,-0.28422585,-0.022476811),vec4(0.39479432,0.23487422,0.08814459,0.23446822)) * bufB[2] + mat4(vec4(0.11680594,0.31096667,-0.2424065,-0.30012795),vec4(-0.044646677,0.18251345,-0.023607476,-0.30862248),vec4(-0.060371988,-0.14546767,-0.18730834,-0.04602435),vec4(0.17760146,0.1660486,0.07580534,-0.023007073)) * bufB[3] + mat4(vec4(-0.18425427,0.16137803,0.078742415,-0.22223935),vec4(0.105341844,0.081974655,-0.16732441,0.19987084),vec4(0.06730593,-0.18123826,-0.068745606,0.32222903),vec4(-0.043973263,-0.15031049,0.35194948,0.059717838)) * bufB[4] + mat4(vec4(-0.017820492,-0.110708006,-0.27238706,0.15262157),vec4(0.17552492,-0.28489795,-0.30601674,-0.07819396),vec4(-0.18597902,0.10623268,0.035208303,-0.12278478),vec4(-0.121563934,0.039285053,-0.17263967,-0.16412711)) * bufB[5] + mat4(vec4(0.17735788,0.035947714,0.4070199,-0.12848721),vec4(0.366823,0.2164337,0.009876388,-0.042157974),vec4(0.40212744,0.144572,0.32287726,-0.20407766),vec4(-0.11181595,0.28050244,0.1501183,0.09190688)) * bufB[6] + mat4(vec4(0.15227996,-0.0048027714,0.04043233,0.02396221),vec4(-0.116347544,0.063267946,-0.016932748,-0.26728052),vec4(-0.033779576,-0.111047395,0.046094082,-0.017784841),vec4(0.109087415,0.27570882,0.39686522,-0.3260096)) * bufB[7] + mat4(vec4(-0.1017546,0.5362336,-0.21101831,-0.2796653),vec4(-0.041402612,0.13351145,0.14615965,0.26528466),vec4(0.031522684,0.15577595,0.3259504,-0.01739301),vec4(0.17378831,-0.12740855,-0.1528932,-0.13197087)) * bufB[8] + mat4(vec4(0.005922094,-0.27434003,0.23660159,0.04821723),vec4(0.14406848,0.023989223,0.03982692,0.13942692),vec4(-0.19208704,-0.08481029,-0.19319393,-0.046362247),vec4(0.12721108,-0.08212758,0.09514126,0.17030604)) * bufB[9] + mat4(vec4(0.122196056,0.049348634,0.46279955,-0.13748543),vec4(0.018721858,0.1484655,-0.13379246,0.072675034),vec4(-0.089137875,-0.023930153,0.07202505,-0.21725084),vec4(-0.13114265,0.01066167,-0.5204889,-0.14516543)) * bufB[10] + mat4(vec4(-0.25952765,-0.1806327,0.16945685,-0.049178872),vec4(0.28213426,-0.1438819,-0.3895199,-0.07739513),vec4(0.05907764,-0.16691464,-0.4979725,0.005124491),vec4(0.16268428,-0.17819294,0.13407254,-0.026404515)) * bufB[11] + in0;\\nbufA[5] = vec4(0.10274944,-0.41811624,0.020143837,0.14527792) + mat4(vec4(-0.10288628,0.12679626,-0.22195303,-0.08523957),vec4(0.12841982,0.08364419,-0.13322464,-0.26519617),vec4(-0.05547567,0.2508993,-0.09105879,-0.32200786),vec4(0.20971158,-0.1254243,0.1544834,-0.16765416)) * bufB[0] + mat4(vec4(0.19050665,-0.20227955,-0.058376223,-0.07540475),vec4(-0.005051811,-0.045076318,-0.18443362,0.026301682),vec4(0.05672999,0.060167655,-0.09437576,-0.161399),vec4(-0.011662741,0.19338466,-0.2727968,-0.44104707)) * bufB[1] + mat4(vec4(-0.17205487,-0.05104339,-0.14177004,0.08045372),vec4(0.057628598,-0.092090644,-0.097626746,-0.3572813),vec4(-0.2030665,0.08897694,-0.103120126,0.020734513),vec4(0.12822124,0.044908278,0.0018269531,0.25528443)) * bufB[2] + mat4(vec4(0.14884926,0.5187234,-0.34806156,0.08162724),vec4(0.09411319,0.18615282,-0.087451875,0.027073067),vec4(-0.2350535,0.11153011,0.06254864,0.24632639),vec4(0.12145486,0.0028715925,-0.07904443,-0.059494793)) * bufB[3] + mat4(vec4(-0.25241566,0.02575852,0.1302741,0.23590417),vec4(0.061132744,-0.15741512,-0.124970555,-0.12807137),vec4(0.39642105,-0.26945198,0.069614805,-0.16332366),vec4(0.058064446,-0.01659033,0.24053437,0.20441943)) * bufB[4] + mat4(vec4(-0.2150898,0.03283457,0.1390828,0.31008655),vec4(-0.119489856,-0.32038277,0.15230551,-0.08916361),vec4(0.11777643,0.15988606,0.11995346,-0.17915401),vec4(-0.12009141,0.15154418,-0.06729425,0.007349399)) * bufB[5] + mat4(vec4(0.25781885,0.2752682,0.12156864,-0.07204436),vec4(-0.2286077,0.19811179,-0.09417172,0.007012954),vec4(-0.20826554,0.044312727,0.018117517,-0.22938024),vec4(-0.11317589,0.41013217,0.28555572,0.33106607)) * bufB[6] + mat4(vec4(0.19262981,0.11693733,0.19393972,-0.06705901),vec4(0.14596803,0.12036322,0.038223498,0.36152962),vec4(0.30196378,-0.022814572,-0.06358523,0.093458824),vec4(-0.2723206,0.20007384,0.062135324,-0.2890372)) * bufB[7] + mat4(vec4(-0.2001448,0.1021775,-0.08558022,0.20465563),vec4(-0.120104134,0.2576409,0.15957297,0.20308664),vec4(-0.16041693,0.16689008,0.17221941,0.03487402),vec4(0.06852955,0.32850873,0.019811004,0.22734804)) * bufB[8] + mat4(vec4(0.0900664,-0.4809056,0.111697055,-0.15646005),vec4(-0.070675515,-0.25512522,0.3175415,-0.15035902),vec4(0.19632165,-0.07818773,-0.07963539,0.36092097),vec4(-0.19072162,0.22128099,-0.4894261,0.35999122)) * bufB[9] + mat4(vec4(-0.08243489,0.270954,0.14636311,0.49567038),vec4(-0.25542787,0.003961394,0.22121112,0.112349525),vec4(-0.035035346,0.14966288,0.0446289,0.009400371),vec4(0.22715,0.29117668,-0.043392174,0.055806484)) * bufB[10] + mat4(vec4(0.30432612,0.064031795,-0.075526655,-0.05768059),vec4(-0.20091575,-0.27664137,0.092839405,-0.20481533),vec4(-0.04459162,-0.20091954,-0.014079073,0.07681244),vec4(0.13379939,0.10067311,-0.3714341,-0.38466737)) * bufB[11] + in1;\\ntmp = sin(bufA[0]);\\nbufB[0] = tmp/0.67;\\nbufB[6] = (tmp*tmp) / 0.6;\\ntmp = sin(bufA[1]);\\nbufB[1] = tmp/0.67;\\nbufB[7] = (tmp*tmp) / 0.6;\\ntmp = sin(bufA[2]);\\nbufB[2] = tmp/0.67;\\nbufB[8] = (tmp*tmp) / 0.6;\\ntmp = sin(bufA[3]);\\nbufB[3] = tmp/0.67;\\nbufB[9] = (tmp*tmp) / 0.6;\\ntmp = sin(bufA[4]);\\nbufB[4] = tmp/0.67;\\nbufB[10] = (tmp*tmp) / 0.6;\\ntmp = sin(bufA[5]);\\nbufB[5] = tmp/0.67;\\nbufB[11] = (tmp*tmp) / 0.6;\\nbufA[0] = vec4(-0.33960775,0.33352587,-0.03862469,0.017725904) + mat4(vec4(-0.32713276,-0.00452508,0.037299544,0.14779939),vec4(0.0013909193,-0.13330457,0.15557396,0.014165729),vec4(0.030202925,-0.0623609,-0.039130844,-0.06816318),vec4(0.3495373,-0.09151927,0.12006217,0.23329872)) * bufB[0] + mat4(vec4(-0.06886464,-0.1303381,0.05269722,-0.46009535),vec4(-0.2849896,0.13839325,0.2865329,-0.26734036),vec4(0.11272881,0.10526324,-0.13030279,-0.11740217),vec4(-0.25282726,-0.021352641,0.040834475,-0.096219294)) * bufB[1] + mat4(vec4(0.13672696,0.23570882,-0.06671984,-0.050188027),vec4(-0.03218894,-0.015767507,-0.13946788,-0.10842674),vec4(0.049050134,0.2210262,-0.06116526,-0.11270522),vec4(0.017943872,0.09059274,0.11621072,0.19601557)) * bufB[2] + mat4(vec4(0.28353658,-0.32594416,-0.3849595,0.01120908),vec4(0.19876808,-0.17977268,-0.14008701,0.05718184),vec4(0.032365866,0.23181793,-0.07500573,-0.042320777),vec4(0.10287459,-0.2506916,0.1952286,0.06026368)) * bufB[3] + mat4(vec4(0.22318238,0.4110799,0.02400308,0.19064105),vec4(-0.05208494,-0.5465357,-0.41862112,0.11488346),vec4(-0.10802396,0.17876382,0.013059625,0.27858564),vec4(0.17694056,-0.3119858,-0.37011254,0.050127216)) * bufB[4] + mat4(vec4(-0.1719174,-0.12585995,-0.17639294,0.096044786),vec4(-0.43411276,-0.11980604,-0.107872106,-0.20381744),vec4(0.061135616,0.30308256,0.08427886,0.033655696),vec4(-0.009095684,0.04694676,-0.15796086,0.07475976)) * bufB[5] + mat4(vec4(-0.20629098,0.049843118,-0.21256422,0.17768465),vec4(0.16875309,0.24063306,-0.20188686,0.07102488),vec4(0.059550695,0.3009824,-0.15338044,-0.19792818),vec4(-0.12595595,0.10713627,0.24046852,-0.10725256)) * bufB[6] + mat4(vec4(0.13077791,0.17005348,0.02084705,0.15286413),vec4(0.05058601,0.23201641,0.037011128,-0.6233119),vec4(-0.069974825,-0.083989814,-0.05702867,0.22430575),vec4(0.043212462,0.09249228,-0.023741791,0.2678585)) * bufB[7] + mat4(vec4(-0.024002902,-0.11284099,0.24684818,0.09991947),vec4(-0.0017261314,0.31704843,0.017222552,-0.17522728),vec4(-0.13760541,0.40674266,-0.061670672,-0.17650391),vec4(-0.08615762,-0.14468242,0.12232804,0.20757821)) * bufB[8] + mat4(vec4(-0.3466889,0.24025838,-0.010761117,0.20684297),vec4(-0.15239966,-0.012767914,0.31555822,0.092653856),vec4(-0.18255584,-0.055808865,0.104619145,0.16735113),vec4(-0.057679467,-0.011461517,0.063418604,0.18404719)) * bufB[9] + mat4(vec4(-0.22081321,-0.1408122,0.19575958,0.10676569),vec4(0.26021627,0.11812705,-0.26331428,0.1563885),vec4(0.031626537,-0.053911287,-0.24315456,0.3184151),vec4(0.05185515,0.09081754,-0.18250455,-0.26310974)) * bufB[10] + mat4(vec4(-0.06374226,0.079915285,0.143179,-0.2663425),vec4(-0.17780009,-0.6761146,0.2597478,0.11705643),vec4(-0.046564315,0.4783778,0.17494667,0.39221668),vec4(-0.23274352,0.11824442,-0.18826559,0.056635134)) * bufB[11];\\nbufA[1] = vec4(-0.30142182,-0.34200063,-0.3564083,0.46187526) + mat4(vec4(-0.07787301,-0.017307991,-0.11267015,-0.13501829),vec4(0.005162345,0.15492837,0.1503283,-0.1324512),vec4(0.07358278,0.11697938,0.07077997,-0.033199277),vec4(0.13386801,-0.04447783,0.30642807,0.1105184)) * bufB[0] + mat4(vec4(0.18751901,-0.31157956,0.19258903,-0.13135529),vec4(0.33907932,0.050662596,-0.3104519,-0.06542261),vec4(-0.16816102,-0.1206261,0.03928924,0.07775666),vec4(0.03533763,0.16825227,-0.25780332,-0.046546277)) * bufB[1] + mat4(vec4(0.20741028,-0.12541981,-0.09681466,0.102457866),vec4(-0.25975642,-0.23321982,-0.09905412,-0.22130011),vec4(-0.3139155,0.17694052,-0.20132864,0.052892093),vec4(0.19712976,-0.13962589,-0.2596477,-0.10575953)) * bufB[2] + mat4(vec4(-0.2786229,-0.23141746,-0.177307,-0.034455404),vec4(0.046025597,0.11420528,-0.13258818,0.20010513),vec4(-0.005726429,0.37638077,-0.044003453,0.04543999),vec4(0.14448473,0.1354678,0.11326139,0.056379735)) * bufB[3] + mat4(vec4(-0.2554168,0.014078637,-0.009605463,0.028524848),vec4(-0.102179416,0.06358738,0.06578219,0.16835377),vec4(-0.1359488,0.068212375,-0.1300693,-0.057192605),vec4(0.36946037,-0.09580707,-0.13654232,0.5001324)) * bufB[4] + mat4(vec4(-0.15231915,0.12953912,0.20446455,-0.023908922),vec4(0.079380624,0.020015704,-0.20673369,-0.24926667),vec4(0.05942398,0.059766974,-0.026592407,0.11612096),vec4(0.00839527,0.113252036,-0.010362446,0.12505218)) * bufB[5] + mat4(vec4(-0.18461089,0.17150408,-0.14244002,0.27916816),vec4(-0.14933866,0.066193156,-0.11963239,0.39570045),vec4(0.35868278,0.25185046,-0.01575334,0.07368837),vec4(0.08671359,0.050014984,-0.21496087,-0.01914746)) * bufB[6] + mat4(vec4(-0.17991492,0.14407273,-0.16212915,0.008577621),vec4(0.07983929,0.1365726,0.16746674,0.027489651),vec4(0.04733377,-0.16576578,-0.19671936,-0.36570868),vec4(0.14947002,0.07574313,0.5061155,-0.08037836)) * bufB[7] + mat4(vec4(0.29590055,-0.0423538,-0.036563065,0.37376726),vec4(0.058030758,-0.08920304,0.11591837,0.6860331),vec4(0.3208844,-0.108290784,0.07716291,0.1728008),vec4(0.20349297,-0.030843267,-0.1033048,-0.18032405)) * bufB[8] + mat4(vec4(0.0147331,0.03316568,0.30320272,-0.1452544),vec4(-0.06659081,0.17115915,0.19106174,0.3192965),vec4(-0.24245551,0.0518722,0.26342154,-0.115316406),vec4(-0.07442983,0.30656224,0.44706663,-0.07974462)) * bufB[9] + mat4(vec4(-0.027456826,0.06157313,-0.12974873,0.14206786),vec4(-0.081675924,0.10543159,-0.3056515,-0.24723127),vec4(0.04861028,-0.17642309,-0.11830702,-0.33990312),vec4(0.016810078,-0.10736962,-0.0828691,0.29241642)) * bufB[10] + mat4(vec4(-0.21291222,0.10105148,-0.021525502,0.08273444),vec4(-0.117742404,-0.22280529,0.5380864,0.13222754),vec4(-0.34236234,0.13002601,-0.15033737,-0.40917963),vec4(0.101591356,0.16029514,0.055628285,0.20373133)) * bufB[11];\\nbufA[2] = vec4(-0.25914994,0.41670007,-0.48425817,-0.3159721) + mat4(vec4(0.053760678,-0.12714516,-0.080022015,0.18162896),vec4(-0.014502992,-0.11256732,0.29072648,-0.08900777),vec4(0.289582,-0.2273404,0.12612203,0.109858684),vec4(-0.3682989,0.12882313,-0.12014551,0.32921663)) * bufB[0] + mat4(vec4(-0.17847629,-0.009328645,0.04132941,-0.25238904),vec4(0.11871883,0.13275163,0.20256431,0.19509406),vec4(-0.19798635,-0.036016516,0.15501812,-0.052619994),vec4(-0.053109612,0.17528899,-0.074534945,0.22130972)) * bufB[1] + mat4(vec4(0.2202993,0.18717647,-0.3050534,-0.027036665),vec4(0.03722203,-0.12566286,0.25458163,0.093719006),vec4(0.5417778,0.36201265,0.16789384,0.11092771),vec4(-0.08141675,0.06323277,0.00091969664,-0.26874036)) * bufB[2] + mat4(vec4(0.14304678,-0.047062047,0.5061466,-0.275642),vec4(-0.10921059,0.039550368,-0.07443921,0.06176377),vec4(0.1117434,0.024278142,-0.3763558,0.22084416),vec4(-0.18460862,-0.008444851,-0.28276145,0.26298532)) * bufB[3] + mat4(vec4(0.11831743,0.17465322,-0.08489642,0.018704701),vec4(-0.4283549,-0.3614199,0.047847044,-0.06375393),vec4(-0.19398119,-0.23548324,-0.30053455,-0.32131788),vec4(-0.10096634,-0.0043798555,-0.5354378,-0.08548203)) * bufB[4] + mat4(vec4(0.051049516,-0.29312545,0.1016242,-0.0737276),vec4(-0.24798724,-0.09614705,-0.15407613,-0.036886673),vec4(0.33072683,0.08673755,0.33749563,0.13974077),vec4(-0.01597931,0.036564916,-0.07131602,0.11559218)) * bufB[5] + mat4(vec4(0.33669156,-0.18188725,0.2839303,-0.2305584),vec4(0.069339216,0.061236776,0.06212611,0.12275407),vec4(0.2786716,-0.26357988,-0.23268798,0.15285449),vec4(-0.100910746,0.07189459,0.009547677,-0.2699803)) * bufB[6] + mat4(vec4(0.22003163,-0.039520923,0.5089604,-0.03698562),vec4(0.352338,0.07768618,-0.19160107,0.11418427),vec4(-0.062112253,-0.15943469,0.059011385,-0.27909783),vec4(-0.096636854,-0.08540824,-0.055815753,0.06302054)) * bufB[7] + mat4(vec4(0.17743243,-0.0053550815,-0.16940893,0.3865927),vec4(0.2866454,0.3080894,-0.10405893,0.25367185),vec4(0.30889693,-0.013495664,0.38464892,-0.0069341944),vec4(0.03760846,-0.06964709,-0.4588912,-0.34266827)) * bufB[8] + mat4(vec4(-0.014168523,-0.10732655,-0.31568876,-0.059153344),vec4(0.3322359,0.09567252,-0.6197909,0.21842703),vec4(0.25692785,0.43481165,0.05574851,0.13652328),vec4(0.013625398,-0.13394055,-0.09082751,-0.02211406)) * bufB[9] + mat4(vec4(0.06405566,-0.027909417,-0.7143424,0.18435517),vec4(0.21736625,0.22848406,0.032482393,-0.1924478),vec4(-0.37413698,-0.041701984,-0.03105258,-0.024846796),vec4(-0.013639036,-0.10193571,0.026965419,-0.18034971)) * bufB[10] + mat4(vec4(0.13511902,0.2653436,-0.035283435,-0.21411945),vec4(-0.0034657256,-0.24013352,-0.0786786,-0.030580167),vec4(0.27349433,0.057572242,0.46617475,-0.09173678),vec4(0.08466451,0.05068588,-0.22520201,0.11152023)) * bufB[11];\\nbufA[3] = vec4(-0.20442541,-0.35531726,0.48288587,0.29254904) + mat4(vec4(-0.16358142,-0.260643,0.09605855,0.2887862),vec4(-0.055903174,0.12451889,0.06826049,0.17869039),vec4(-0.22919694,-0.2702101,-0.28508765,0.046222966),vec4(-0.056723837,-0.2308984,0.0021945476,0.3205003)) * bufB[0] + mat4(vec4(-0.103129245,0.14149298,0.23804128,0.16906555),vec4(0.091053925,-0.08155744,0.385972,0.16582258),vec4(-0.04401509,-0.20723726,-0.2603708,-0.3449579),vec4(-0.089478984,0.011014725,-0.06034764,-0.18018629)) * bufB[1] + mat4(vec4(-0.25699517,0.24222703,-0.29035208,-0.10682883),vec4(-0.0037323586,0.15234458,-0.15234844,0.32902744),vec4(-0.18883437,0.005171522,-0.014798206,-0.015066697),vec4(0.1966261,0.09984587,0.16959359,-0.1720884)) * bufB[2] + mat4(vec4(0.010865008,0.016210672,0.09071936,0.12907483),vec4(0.03564418,-0.23509732,0.05548744,0.42057097),vec4(0.11960836,0.21803075,-0.15752262,0.009752476),vec4(0.020154718,0.19488676,-0.2370703,-0.16766098)) * bufB[3] + mat4(vec4(-0.1636791,-0.010251059,-0.03368746,-0.16394095),vec4(0.28076226,-0.058342032,-0.10127797,0.0057184673),vec4(0.20607421,0.00369811,0.01712695,-0.110625386),vec4(0.12820499,-0.21644971,-0.0712473,-0.07750152)) * bufB[4] + mat4(vec4(-0.14949104,-0.19367358,0.18501012,0.1090832),vec4(0.040483426,-0.063123114,0.04418236,-0.008453292),vec4(-0.19945106,0.13374516,-0.0024437627,0.069600604),vec4(-0.092220314,0.032985374,-0.051195648,-0.10498364)) * bufB[5] + mat4(vec4(0.07527693,0.22912987,0.104209535,-0.2736217),vec4(0.05664041,0.027821548,0.13235088,0.30250102),vec4(0.09874752,0.37443572,-0.36690843,0.20208548),vec4(-0.17026317,-0.24212956,0.28203842,-0.112481564)) * bufB[6] + mat4(vec4(-0.1751137,0.25911242,-0.035765868,0.010204842),vec4(-0.20221463,0.5878993,-0.08416612,-0.055816006),vec4(-0.2331023,-0.30141935,0.36250317,-0.04310263),vec4(-0.2729502,-0.006501998,0.022747602,-0.02300311)) * bufB[7] + mat4(vec4(-0.47680414,0.2042226,0.01861655,-0.0532585),vec4(-0.4065095,-0.0018126887,0.08714859,0.37696365),vec4(-0.42296407,-0.18404922,0.038806763,0.06631113),vec4(-0.016813504,-0.05085306,0.19034854,-0.27113795)) * bufB[8] + mat4(vec4(-0.24604616,0.47378722,-0.24301639,-0.5931831),vec4(0.007758027,0.11038754,-0.21801911,0.13075034),vec4(0.17307688,0.068023995,0.02854635,0.05766752),vec4(0.004217409,-0.14075637,-0.10470479,0.18551634)) * bufB[9] + mat4(vec4(-0.06512518,-0.38591722,0.42010567,-0.17234527),vec4(0.2928996,-0.050543867,0.08332301,-0.29842734),vec4(0.5359147,-0.39557353,0.10536276,-0.38454667),vec4(-0.18779343,0.22151989,-0.285291,-0.12634747)) * bufB[10] + mat4(vec4(0.18235025,0.4468495,-0.21220127,-0.041654427),vec4(-0.23371169,-0.06601826,-0.042142607,0.17599076),vec4(0.4775672,-0.22778504,0.07486346,-0.16345656),vec4(0.013967154,-0.100728855,-0.09118285,-0.069679044)) * bufB[11];\\nbufA[4] = vec4(0.35835427,-0.60245603,0.32817522,-0.16434121) + mat4(vec4(0.0018748459,0.18470381,0.19495556,0.30327398),vec4(0.11619713,0.08093572,0.08047944,0.17061937),vec4(0.02969758,0.070753105,0.1872771,0.18488093),vec4(0.06322498,-0.01916177,-0.1619313,0.08399167)) * bufB[0] + mat4(vec4(0.10140662,0.043532055,-0.12838086,0.01033619),vec4(-0.0019311724,0.119021475,-0.096873395,0.06769165),vec4(0.09162432,0.10935955,0.081300385,0.019158106),vec4(-0.083445035,0.056127176,-0.1857394,0.04102739)) * bufB[1] + mat4(vec4(0.029769747,0.028382925,0.12392081,0.09408242),vec4(-0.17386796,0.05958453,-0.21334808,0.08432368),vec4(0.019494085,0.10624094,-0.3091763,0.2627695),vec4(0.08814227,-0.2861711,-0.12863122,-0.15743786)) * bufB[2] + mat4(vec4(-0.15956649,-0.108427465,-0.07950755,-0.31060192),vec4(-0.023051849,-0.12272149,0.14779136,-0.37521204),vec4(0.3461423,0.29578525,-0.042751603,0.13669176),vec4(0.03747895,-0.2665722,-0.20492895,0.058171917)) * bufB[3] + mat4(vec4(-0.09130397,0.28520048,0.11581306,0.14242777),vec4(-0.04551001,-0.02700661,0.055269707,-0.32189298),vec4(0.057701856,0.16034888,0.30190825,-0.16761994),vec4(0.40468735,-0.02930426,0.22294013,0.020775754)) * bufB[4] + mat4(vec4(0.10207015,0.02184867,-0.05259332,0.07280118),vec4(0.052222013,0.010676398,0.20577805,0.010483147),vec4(0.21097513,-0.019320205,0.34288406,-0.027677739),vec4(-0.14198677,-0.034389902,-0.07048424,-0.045696583)) * bufB[5] + mat4(vec4(-0.16763537,0.19633766,0.30990097,0.16168934),vec4(-0.17098185,0.0067398297,0.059319366,-0.09982626),vec4(0.10132773,0.43859842,0.056414593,0.24264783),vec4(-0.39951718,0.04372192,0.044378012,-0.39390984)) * bufB[6] + mat4(vec4(-0.07744741,-0.2524833,-0.18144207,0.08068998),vec4(0.22688106,0.4994975,0.06820985,-0.18401575),vec4(-0.44097283,-0.3322041,-0.23362924,-0.16191055),vec4(0.2377996,-0.035882633,-0.107384,0.28676006)) * bufB[7] + mat4(vec4(-0.27897927,0.096328974,0.0978047,0.006481287),vec4(0.25687057,0.26158604,0.32908088,-0.041671738),vec4(0.17142528,-0.08111834,-0.07098726,0.18948019),vec4(-0.24291837,-0.29084015,0.13537587,-0.002293285)) * bufB[8] + mat4(vec4(0.25487244,-0.011984759,0.121185176,0.444079),vec4(-0.039850306,0.12621409,0.30306387,0.048011627),vec4(0.06280758,-0.04512596,0.067906566,0.14556776),vec4(-0.084696,0.10377034,-0.13035613,-0.010343491)) * bufB[9] + mat4(vec4(-0.1284025,-0.33820942,-0.00967377,-0.27421355),vec4(-0.2577737,-0.14053153,-0.33164486,-0.08271199),vec4(-0.009366589,0.106736206,0.17296214,-0.094909795),vec4(-0.06459704,-0.0071323575,0.1425632,0.24493349)) * bufB[10] + mat4(vec4(-0.29818714,0.011712406,0.0062981574,-0.0026678438),vec4(-0.30985397,0.078371435,0.09802355,0.2789706),vec4(-0.1978011,0.056900278,-0.22075258,0.60364723),vec4(-0.14043218,0.07569156,0.16688731,-0.13626486)) * bufB[11];\\nbufA[5] = vec4(-0.12811682,-0.07363474,-0.43079028,-0.14841728) + mat4(vec4(0.0842106,-0.08232511,0.0853962,-0.036435504),vec4(-0.101009585,-0.10244749,0.017461082,0.10022493),vec4(-0.07894835,-0.26012045,0.039249085,0.13143294),vec4(-0.18044169,0.26691577,0.30481258,-0.30380982)) * bufB[0] + mat4(vec4(0.15340517,-0.10573116,0.35611433,-0.2944871),vec4(-0.08151765,-0.19694124,0.24066028,-0.2046021),vec4(-0.011277666,-0.04390834,0.095352165,0.16732417),vec4(-0.036008224,0.11991574,0.08281377,-0.16211234)) * bufB[1] + mat4(vec4(-0.035865054,0.0070187342,0.024805484,-0.0321496),vec4(0.03310434,0.20621793,-0.08833902,0.02636306),vec4(0.15876459,0.23365179,0.21931963,-0.29010046),vec4(0.3291324,-0.15062453,0.17255653,0.0032640453)) * bufB[2] + mat4(vec4(-0.18698639,-0.33885825,-0.16067992,0.26096544),vec4(-0.051587164,0.28329998,-0.22871324,-0.029197814),vec4(0.15218687,0.18854871,0.1695638,0.08688134),vec4(-0.24359079,0.12261261,0.10973455,-0.16278355)) * bufB[3] + mat4(vec4(0.0109687615,-0.148216,0.48055747,-0.22919561),vec4(0.06494504,0.21415028,0.067573406,0.17907813),vec4(-0.065031834,-0.115960084,-0.19414215,0.19075291),vec4(0.22695546,0.13629627,0.10067025,0.13759413)) * bufB[4] + mat4(vec4(0.049328465,-0.21029133,-0.28334796,0.40871245),vec4(-0.08550139,-0.20887166,0.10715223,-0.014250298),vec4(-0.108714536,0.023310188,-0.123727776,0.07179853),vec4(0.22476764,0.25666028,-0.036345292,-0.08602835)) * bufB[5] + mat4(vec4(0.030104699,-0.24947791,-0.46578294,0.16841516),vec4(0.12425456,-0.025151057,-0.10794913,-0.122504145),vec4(0.0074609583,0.18872139,0.11675344,0.21922982),vec4(-0.00946054,-0.29771084,-0.26763955,-0.02978222)) * bufB[6] + mat4(vec4(-0.14839335,-0.102031246,-0.09586146,-0.1695993),vec4(0.10065054,0.3419779,0.09106315,-0.027739806),vec4(0.25976166,0.043449163,0.06295586,0.049800895),vec4(-0.025360703,-0.08755064,0.20809732,-0.038711976)) * bufB[7] + mat4(vec4(0.11366552,0.038971014,0.0075317104,-0.0775061),vec4(0.021775113,0.1782279,0.047913153,-0.12516491),vec4(0.10134559,-0.08940712,0.119835116,-0.14254652),vec4(0.13989006,-0.01158958,0.17569982,0.047394853)) * bufB[8] + mat4(vec4(-0.017754057,0.13363497,0.060687006,-0.1855961),vec4(-0.16207041,0.21894515,0.38739422,-0.2912457),vec4(0.26535568,0.14387277,-0.07939195,0.1028137),vec4(-0.13843957,-0.15777501,-0.1277021,-0.04020519)) * bufB[9] + mat4(vec4(-0.021537283,-0.035833187,-0.19589838,-0.0008077014),vec4(0.578538,-0.15203698,0.025390271,-0.15914498),vec4(0.13413507,-0.37849662,-0.2022588,0.2398558),vec4(0.0016031932,-0.011132522,-0.3243062,0.30971757)) * bufB[10] + mat4(vec4(0.31231436,0.08655053,0.20680816,0.08085034),vec4(-0.16405609,0.07741859,0.095153406,0.019154573),vec4(0.20158277,0.21103676,-0.29095888,-0.23305206),vec4(0.24911444,-0.07301956,-0.054702625,0.20358151)) * bufB[11];\\ntmp = sin(bufA[0]);\\nbufB[0] = tmp/0.67;\\nbufB[6] = (tmp*tmp) / 0.6;\\ntmp = sin(bufA[1]);\\nbufB[1] = tmp/0.67;\\nbufB[7] = (tmp*tmp) / 0.6;\\ntmp = sin(bufA[2]);\\nbufB[2] = tmp/0.67;\\nbufB[8] = (tmp*tmp) / 0.6;\\ntmp = sin(bufA[3]);\\nbufB[3] = tmp/0.67;\\nbufB[9] = (tmp*tmp) / 0.6;\\ntmp = sin(bufA[4]);\\nbufB[4] = tmp/0.67;\\nbufB[10] = (tmp*tmp) / 0.6;\\ntmp = sin(bufA[5]);\\nbufB[5] = tmp/0.67;\\nbufB[11] = (tmp*tmp) / 0.6;\\nbufA[0] = vec4(0.11148029,0.16009016,0.01706092,-0.073224954) + mat4(vec4(-0.25741506,-0.5563222,0.036721844,0.37351558),vec4(-0.13380171,-0.2828256,-0.171455,0.169722),vec4(0.074296094,0.266929,0.41364047,-0.28074995),vec4(-0.27476275,-0.2615971,0.26654345,0.22866602)) * bufB[0] + mat4(vec4(-0.2753716,0.18256152,-0.009759721,-0.07623055),vec4(0.09472966,0.08061097,-0.015117866,-0.37257352),vec4(-0.007582592,0.06788885,-0.14514703,-0.25259107),vec4(0.025415234,-0.23750216,0.20241088,0.10060117)) * bufB[1] + mat4(vec4(-0.40027502,-0.18272334,0.15093839,0.054756504),vec4(-0.023318894,0.20659797,0.21308152,-0.26025775),vec4(0.36163157,0.0058685057,0.24406758,0.14038275),vec4(-0.369046,0.04148714,-0.051432665,0.18668921)) * bufB[2] + mat4(vec4(-0.026888264,-0.19602612,-0.272701,-0.041167628),vec4(-0.24809343,0.020565143,0.03656306,0.0965848),vec4(0.19152214,0.23235148,0.3409546,-0.38203344),vec4(0.01768498,-0.07124056,-0.10181689,-0.18844688)) * bufB[3] + mat4(vec4(0.31148276,-0.22976637,-0.24109674,0.10787887),vec4(-0.14859329,0.23305339,0.0008883357,-0.12700978),vec4(-0.3249952,-0.027648192,0.01255436,0.009124138),vec4(0.21101639,0.09460847,0.09917774,-0.23929219)) * bufB[4] + mat4(vec4(0.025004061,0.014085533,0.014306578,-0.20849054),vec4(-0.54071796,-0.32448688,0.023076404,0.04672686),vec4(-0.5145683,0.35484403,0.1426119,-0.19212),vec4(0.13408777,-0.4016871,-0.2637325,0.39415106)) * bufB[5] + mat4(vec4(-0.28255442,-0.063580975,0.1450524,0.025848856),vec4(-0.23210815,-0.15676078,0.09875671,0.16463092),vec4(-0.11540719,-0.31581128,-0.27959135,0.46633834),vec4(-0.046761863,0.21991503,0.052243244,0.03487556)) * bufB[6] + mat4(vec4(-0.16914822,0.10108016,0.21010995,-0.10929184),vec4(-0.2139357,0.18375845,0.2708894,0.06184742),vec4(-0.14313741,-0.38948393,-0.09666325,0.4910287),vec4(0.07398879,-0.23280886,0.11005492,0.24008726)) * bufB[7] + mat4(vec4(0.03084434,-0.4352788,0.20723744,0.5482933),vec4(-0.12172932,0.18615808,-0.62042844,-0.20611805),vec4(0.20095104,-0.46489897,0.032157708,0.5591324),vec4(-0.0040099537,0.14642063,-0.07672919,0.00072810415)) * bufB[8] + mat4(vec4(0.13946182,0.34329423,-0.43429267,-0.54425186),vec4(0.12686096,0.017856326,-0.025589151,-0.28076294),vec4(-0.18756506,0.02494396,0.14253712,0.06553603),vec4(-0.17923966,-0.13556156,0.11056076,-0.14653204)) * bufB[9] + mat4(vec4(0.10254038,-0.10901543,5.5241457e-05,0.21765807),vec4(0.08015318,0.12290419,0.03893574,-0.038860995),vec4(0.020883918,-0.114205,0.14072217,0.20908098),vec4(-0.07452829,0.015873844,-0.24448022,-0.2546222)) * bufB[10] + mat4(vec4(0.037888497,0.12171322,-0.073873006,-0.16746362),vec4(-0.378496,-0.21604194,0.28024265,0.112643585),vec4(0.20292433,-0.15642719,-0.2875322,0.2232643),vec4(-0.32014322,0.562879,-0.30020508,-0.65938926)) * bufB[11];\\nbufA[1] = vec4(0.07616234,0.48159876,-0.4973739,0.44246072) + mat4(vec4(-0.31197447,-0.17150864,0.11402059,0.12032448),vec4(0.13472307,0.054936886,0.0865528,-0.1871196),vec4(-0.035549752,-0.0024937051,-0.19841309,-0.18570568),vec4(-0.103716195,-0.518792,-0.4824838,-0.02407872)) * bufB[0] + mat4(vec4(0.014328933,-0.13283068,0.063336,-0.19040406),vec4(-0.2692897,-0.08395039,0.1579938,0.22851978),vec4(-0.0011696231,0.22697508,-0.065450706,0.1211411),vec4(-0.11883089,-0.23389827,-0.0056040515,-0.23070163)) * bufB[1] + mat4(vec4(-0.038680706,0.24583873,0.15569384,0.1539194),vec4(-0.18021125,-0.11076992,-0.3042339,0.22421366),vec4(0.078489006,-0.15376906,0.027956134,-0.121633224),vec4(0.21728033,0.021049237,-0.07229149,0.21653534)) * bufB[2] + mat4(vec4(0.15985616,0.15033899,-0.04278763,0.16556711),vec4(-0.5030963,0.052158035,0.067942105,-0.30984932),vec4(0.3863147,0.22189103,-0.13949262,0.37258306),vec4(0.3367743,0.24391966,0.045718282,-0.3151881)) * bufB[3] + mat4(vec4(-0.17073977,-0.21229382,0.21724384,-0.10974432),vec4(-0.52128667,-0.15260206,0.19452386,-0.1546168),vec4(-0.2793472,-0.19998637,-0.20037499,-0.064067),vec4(-0.48717165,0.25851667,-0.15303314,0.09080285)) * bufB[4] + mat4(vec4(-0.11506582,0.085821435,-0.21773344,0.28230476),vec4(-0.27441236,-0.2924483,-0.07998001,0.37525004),vec4(0.23012227,-0.41210595,-0.015433738,-0.24664049),vec4(-0.022828875,0.027523454,0.10666383,-0.4583739)) * bufB[5] + mat4(vec4(-0.10140529,0.19429342,-0.22567786,0.13747267),vec4(-0.23770785,-0.14056477,0.05826246,0.17249894),vec4(-0.3813399,-0.099190734,0.05733906,0.2625662),vec4(-0.13163963,-0.4652186,-0.108801916,-0.11393748)) * bufB[6] + mat4(vec4(-0.39251378,-0.20819503,0.11212835,0.19986477),vec4(0.12930019,0.026691355,-0.2942446,0.4273965),vec4(0.3567306,-0.46608737,-0.018841637,0.14175867),vec4(-0.3960475,-0.31303087,-0.26693198,0.06652734)) * bufB[7] + mat4(vec4(-0.26280192,-0.40943426,0.23189126,0.095282055),vec4(0.2576606,0.4782127,-0.044463333,-0.06537906),vec4(0.27850515,0.10290297,-0.3591636,0.037267677),vec4(0.18729071,0.13980083,-0.33775082,0.0004573071)) * bufB[8] + mat4(vec4(0.31708968,0.5146878,0.08628964,-0.16977087),vec4(0.09472828,-0.010286521,-0.0825548,0.09226828),vec4(-0.012216484,0.035009492,-0.32318848,0.13399002),vec4(-0.29910424,-0.30838344,-0.092130736,-0.20362602)) * bufB[9] + mat4(vec4(0.13631825,0.12560107,-0.25161695,0.12937027),vec4(0.090863615,0.24266528,-0.1739658,0.27831364),vec4(-0.1576761,-0.34122986,0.119886644,0.05292966),vec4(-0.080150016,-0.18005063,0.12283058,0.300027)) * bufB[10] + mat4(vec4(0.08939248,0.15843938,0.18045993,0.37636396),vec4(-0.3872916,-0.048541714,-0.10853837,0.23352169),vec4(-0.34508651,0.21681748,-0.029887524,-0.24924654),vec4(0.22851668,0.40342486,0.13084055,0.5670593)) * bufB[11];\\nbufA[2] = vec4(0.31943116,0.11993674,-0.43845057,0.53059584) + mat4(vec4(-0.11086975,0.29765597,0.061038326,0.28472632),vec4(0.028657626,-0.35186777,0.20121194,0.019112349),vec4(0.16371325,0.19489086,-0.038352527,0.24166569),vec4(-0.06217647,-0.17010406,0.30592546,0.19645001)) * bufB[0] + mat4(vec4(0.30754983,0.037322465,0.08628644,-0.15977216),vec4(0.010817461,0.24509986,-0.15906934,0.16833411),vec4(0.2858294,0.2679003,0.007804919,-0.054032844),vec4(-0.1260153,-0.2255763,0.08740048,0.076269194)) * bufB[1] + mat4(vec4(-0.5540553,-0.20964874,0.28411084,0.09904888),vec4(0.41639793,0.29252243,-0.035736274,0.27725813),vec4(-0.060633503,-0.05524813,0.26488623,0.21761084),vec4(0.041259445,0.18701439,0.25029504,0.01193287)) * bufB[2] + mat4(vec4(-0.44919077,0.13722745,-0.25672582,-0.1021581),vec4(0.27242884,-0.31291002,-0.36192158,-0.10768022),vec4(-0.0016634755,0.022955677,-0.2346322,0.1989558),vec4(0.08987766,-0.046988554,-0.008037298,-0.21110405)) * bufB[3] + mat4(vec4(0.13858607,-0.1367432,0.15552966,-0.1553365),vec4(0.23345171,0.09100454,-0.25428012,-0.08449383),vec4(0.30075642,0.041365724,0.0924728,0.16153544),vec4(0.04446894,0.17681238,-0.3055621,-0.1364587)) * bufB[4] + mat4(vec4(-0.12701353,0.30521345,-0.007192608,0.0207438),vec4(0.10001724,-0.08512347,0.4514141,0.23436928),vec4(0.10978638,0.12165908,0.09212052,-0.25145656),vec4(-0.28067955,-0.05529602,-0.35485134,-0.34943107)) * bufB[5] + mat4(vec4(0.08244924,0.23057689,-0.30752248,0.26394922),vec4(-0.38534334,-0.08006129,-0.0045244643,0.01697188),vec4(-0.042603694,-0.1608709,0.22579582,-0.13063619),vec4(-0.055348184,-0.0873774,0.34344977,0.0776826)) * bufB[6] + mat4(vec4(-0.08130402,0.09078335,-0.028881652,0.33761263),vec4(0.16853805,0.14896548,0.033395626,0.27312467),vec4(-0.26893184,-0.045818657,0.044839535,0.19098213),vec4(0.2007413,-0.021875953,0.19807559,0.24200404)) * bufB[7] + mat4(vec4(-0.47014895,-0.07469544,-0.062978275,0.3357519),vec4(0.29558554,-0.03720618,-0.14677183,-0.549667),vec4(-0.3349908,-0.24710612,-0.17373416,0.13969636),vec4(-0.44261315,-0.07364707,-0.63903964,-0.07784293)) * bufB[8] + mat4(vec4(0.042355124,0.22798505,-0.5145923,-0.40132448),vec4(0.06763242,0.1969295,0.25550917,0.66871816),vec4(0.16812328,0.47192258,0.089543834,0.19046384),vec4(0.060921513,0.011816891,0.1590022,0.21112058)) * bufB[9] + mat4(vec4(0.09022924,0.026531667,-0.06726878,0.07161296),vec4(-0.26116976,-0.18853892,0.035069544,0.26610836),vec4(0.22241339,0.04518295,0.09505909,0.17636299),vec4(0.077836245,-0.07144231,0.2843332,-0.035674572)) * bufB[10] + mat4(vec4(-0.16326739,0.116080225,0.21934403,0.05784647),vec4(-0.12825015,-0.05847125,-0.047576234,0.038311154),vec4(0.18730327,-0.07765833,-0.23869187,0.1463743),vec4(0.17817536,0.082700916,0.25895715,-0.13304432)) * bufB[11];\\nbufA[3] = vec4(0.5012468,0.4313063,0.20760535,-0.17173739) + mat4(vec4(-0.0017144167,-0.1902728,0.12002545,-0.34538376),vec4(0.21712142,0.3924411,0.089348644,0.087705374),vec4(0.5022081,0.109376095,0.20155713,-0.2350367),vec4(0.38641503,0.10844928,-0.055291064,-0.12361791)) * bufB[0] + mat4(vec4(0.030905679,0.4669184,0.10239818,0.20874457),vec4(0.030296497,-0.04221955,0.088731095,-0.45096242),vec4(-0.27141997,0.22923678,0.25901982,0.07484609),vec4(0.37521857,-0.4551867,-0.042097818,-0.011052973)) * bufB[1] + mat4(vec4(0.267739,0.3161909,0.21560857,-0.0637395),vec4(0.5194735,-0.22539248,-0.16255024,-0.45517138),vec4(0.28364447,0.28404498,0.25103554,0.07548863),vec4(-0.112990096,0.38300526,0.36595944,-0.44354558)) * bufB[2] + mat4(vec4(-0.08079226,0.00279173,0.07202752,-0.035284437),vec4(0.042605177,0.24559723,-0.25221413,0.059479978),vec4(0.028110998,0.12470704,-0.605553,-0.20550828),vec4(-0.2850829,0.198836,-0.093005456,0.13326155)) * bufB[3] + mat4(vec4(-0.27831292,0.24988784,-0.27643123,0.04234461),vec4(-0.08819273,0.2202322,0.19816375,0.24672186),vec4(-0.05262694,-0.034356635,0.09826718,0.16452597),vec4(-0.07532932,0.098682806,0.07058816,-0.18321542)) * bufB[4] + mat4(vec4(0.1761802,-0.207892,-0.10117096,-0.18401177),vec4(0.11799433,0.0005693894,0.67187214,0.047951605),vec4(-0.1804857,0.14525564,0.08764528,0.24712272),vec4(-0.46280062,-0.1561521,0.0013035625,-0.0035327575)) * bufB[5] + mat4(vec4(0.23904547,-0.19325575,-0.19993475,-0.34008536),vec4(-0.041562498,0.07950111,0.32504186,-0.059259478),vec4(0.08283784,-0.2900363,0.121280946,0.27866736),vec4(0.15349792,-0.22044577,-0.089031376,0.077418245)) * bufB[6] + mat4(vec4(-0.1413957,-0.08746831,0.5310506,-0.11290346),vec4(-0.06797916,-0.12427512,-0.22849931,-0.17104219),vec4(0.33103284,0.14842616,-0.20422283,-0.1921856),vec4(0.10721732,-0.072140776,0.05194869,0.06211076)) * bufB[7] + mat4(vec4(-0.17359507,-0.031509466,-0.11175303,0.07846156),vec4(-0.0202384,0.05366604,-0.42042014,0.15302347),vec4(0.3421087,-0.073357955,-0.42827952,0.06559764),vec4(-0.40398183,-0.27159342,-0.4418514,-0.112864405)) * bufB[8] + mat4(vec4(-0.079061195,0.21005866,-0.0660554,0.18056528),vec4(0.24072869,-0.14470008,-0.0069298083,-0.11187357),vec4(0.20397311,-0.23518142,-0.48703656,-0.28971234),vec4(-0.030690674,-0.19499692,0.20848888,0.14225194)) * bufB[9] + mat4(vec4(0.20482223,0.1624877,-0.121569656,-0.024785474),vec4(-0.10038976,-0.43587023,-0.41648346,0.05427307),vec4(0.26225978,0.10737617,0.27849633,0.032677054),vec4(-0.121792115,-0.16842256,-0.01911659,0.086158186)) * bufB[10] + mat4(vec4(0.005403358,-0.16042982,-0.35107318,-0.1375484),vec4(0.1297382,-0.2072885,0.3556794,0.30499586),vec4(0.026494768,-0.18201634,0.011731859,0.08977516),vec4(0.02790657,0.2975832,0.10074768,0.00016616275)) * bufB[11];\\nbufA[4] = vec4(-0.21671207,0.05305995,-0.035644546,-0.37568647) + mat4(vec4(-0.09232443,0.075987495,0.14105129,-0.48417917),vec4(-0.013142991,-0.039176136,-0.100045785,-0.49553084),vec4(-0.21279454,0.17020787,0.007362582,0.17708942),vec4(-0.10378528,0.40456814,0.03665865,-0.017533254)) * bufB[0] + mat4(vec4(-0.00725722,0.43950236,-0.04137758,-0.49784207),vec4(-0.15616098,0.015621538,0.029883334,0.34171823),vec4(0.10582884,-0.10355264,-0.08454921,0.09348372),vec4(-0.35520455,0.18125677,-0.24992403,0.16142045)) * bufB[1] + mat4(vec4(0.1230476,-0.182297,-0.14071724,-0.12917891),vec4(-0.3233506,0.37734985,0.41469395,0.20512363),vec4(-0.34022954,-0.14841521,0.104989156,0.19694488),vec4(0.14063062,-0.22503069,0.029866943,0.26941672)) * bufB[2] + mat4(vec4(0.39634252,-0.091267645,0.27293307,0.038359765),vec4(-0.3355203,0.09504421,-0.07744354,-0.21517217),vec4(0.015939351,0.15011555,0.3517867,0.10773773),vec4(0.24550158,-0.23552696,-0.01749914,0.21222049)) * bufB[3] + mat4(vec4(0.14548509,0.043868333,-0.023395665,-0.08884532),vec4(0.13755238,0.3137128,-0.22717303,-0.17388336),vec4(-0.24372791,0.25460324,0.027595537,0.09643782),vec4(0.019105837,0.124618016,-0.05222248,0.35530853)) * bufB[4] + mat4(vec4(0.12570395,-0.0055092215,-0.016729537,-0.057729293),vec4(-0.27082893,0.26827058,0.42294613,-0.46471804),vec4(0.26364776,0.08572635,-0.34736708,0.10711953),vec4(0.10676284,0.10863709,-0.19228463,-0.25527617)) * bufB[5] + mat4(vec4(0.32119668,0.13418256,0.09937083,0.030287685),vec4(0.33000046,-0.07485072,0.022402031,-0.1766794),vec4(0.05773688,-0.061569404,0.104888156,-0.059156362),vec4(-0.34314772,0.4899557,-0.037346642,-0.2203031)) * bufB[6] + mat4(vec4(-0.31799334,0.17412497,-0.08242449,-0.32822037),vec4(0.20411155,-0.23749264,0.26071408,-0.02493605),vec4(-0.27403095,0.1924615,-0.0102827,-0.20612814),vec4(-0.4787273,0.46275166,0.063275434,0.021100067)) * bufB[7] + mat4(vec4(-0.1854938,0.11595522,0.056788642,-0.15340458),vec4(0.14857739,-0.28398782,-0.17607392,0.033858858),vec4(-0.20289205,-0.20695063,0.123536184,0.16128738),vec4(0.33474994,-0.03295069,0.1595429,0.25874573)) * bufB[8] + mat4(vec4(0.75745654,-0.7193857,-0.0066942424,0.17492892),vec4(0.061384067,0.18947056,0.06713233,0.09321823),vec4(-0.29101413,0.45070314,-0.07085089,-0.21169287),vec4(-0.114045486,0.40868446,-0.10587499,-0.102908455)) * bufB[9] + mat4(vec4(-0.0052953777,-0.018215802,0.3697727,0.025836615),vec4(0.17253362,-0.1364561,0.3787021,0.11524687),vec4(-0.15792555,0.05748415,0.17771995,-0.10897031),vec4(-0.5076069,0.271843,-0.21153046,-0.10918902)) * bufB[10] + mat4(vec4(0.04599205,0.039205782,-0.10671749,0.15239316),vec4(-0.6054238,0.46859345,0.0831559,-0.5231223),vec4(-0.24668574,0.09660257,0.04985606,0.2613708),vec4(-0.14300998,0.041390613,-0.27389815,0.16810514)) * bufB[11];\\nbufA[5] = vec4(-0.08905488,0.4879649,-0.51062167,-0.26422763) + mat4(vec4(-0.1596377,-0.6901654,0.2134032,-0.24649338),vec4(0.0076572886,-0.23922229,-0.13780585,-0.13213886),vec4(-0.035629828,-0.11542847,0.0021769053,-0.2935597),vec4(-0.3030789,-0.10184964,0.41351444,-0.2887588)) * bufB[0] + mat4(vec4(-0.34806406,-0.55905396,-0.12710343,-0.21932927),vec4(0.15470447,0.07774625,-0.18106066,-0.1477671),vec4(-0.06639235,-0.000657568,0.08566217,-0.2809631),vec4(-0.26527664,0.18809383,0.042142298,-0.22357151)) * bufB[1] + mat4(vec4(-0.06458668,-0.1267941,0.096839145,0.1987741),vec4(-0.32197052,0.10663013,-0.39690268,-0.3198365),vec4(-0.20880331,0.16718332,0.44758925,-0.18715991),vec4(-0.043698046,0.14385349,-0.042684324,-0.19026268)) * bufB[2] + mat4(vec4(0.22964452,0.21831828,0.016574042,0.07252064),vec4(-0.53327864,-0.24732947,0.0019172865,-0.18325506),vec4(-0.09411495,-0.08169809,-0.00030017382,0.08129357),vec4(0.26414904,-0.0548707,0.017749326,0.30680054)) * bufB[3] + mat4(vec4(0.22274765,-0.037353955,-0.038332894,0.06290572),vec4(0.005156841,-0.13268416,0.0932041,-0.26957297),vec4(-0.20546387,0.2546021,-0.13811484,-0.33043706),vec4(0.044068146,0.66299635,-0.1795391,-0.01665924)) * bufB[4] + mat4(vec4(-0.034550514,0.3754573,-0.2795844,0.14424801),vec4(-0.29600397,-0.27859363,0.32745987,-0.50281155),vec4(0.25866225,0.17965281,-0.22569552,0.17040123),vec4(0.12970693,-0.38734746,0.20517121,-0.051514845)) * bufB[5] + mat4(vec4(0.07269569,0.13048953,0.32417694,0.015878158),vec4(0.21690007,-0.086090125,0.1224728,0.05411),vec4(-0.1369075,0.031953827,0.12360566,-0.07594838),vec4(-0.3801056,-0.07170054,0.07900295,-0.025931567)) * bufB[6] + mat4(vec4(-0.5774815,-0.3487543,0.028369082,-0.16942608),vec4(0.08431399,0.31666785,0.049708515,0.15301163),vec4(0.016233847,-0.30950922,-0.058191627,0.41074225),vec4(-0.5583661,-0.13453065,0.51013255,-0.17247538)) * bufB[7] + mat4(vec4(-0.11009877,-0.18938376,0.29556915,0.20564274),vec4(0.14321262,0.23790471,0.07248465,0.20991686),vec4(0.27697295,0.12540428,-0.13609055,0.2754952),vec4(0.44727218,0.5122169,-0.11089232,0.3353532)) * bufB[8] + mat4(vec4(0.75254637,0.536345,-0.28842792,0.20872164),vec4(0.4096049,0.11412904,-0.09682506,-0.09281302),vec4(-0.45751992,-0.33969015,0.09472953,0.30550492),vec4(-0.29820663,-0.16786577,0.15416916,0.12748781)) * bufB[9] + mat4(vec4(0.015867464,-0.046595786,0.27442673,-0.04820262),vec4(0.21633026,0.39651448,-0.18348141,0.20445308),vec4(-0.18720953,-0.05332621,0.24299768,-0.2343751),vec4(-0.50889933,-0.041527823,-0.1620215,0.20346929)) * bufB[10] + mat4(vec4(-0.05742249,0.08354505,-0.20196536,0.39752927),vec4(-0.50255865,-0.17544858,0.7229796,-0.06733933),vec4(-0.50766087,-0.017583255,-0.042368952,-0.2998063),vec4(0.08407604,0.49204117,-0.41077942,0.0011025534)) * bufB[11];\\ntmp = sin(bufA[0]);\\nbufB[0] = tmp/0.67;\\nbufB[6] = (tmp*tmp) / 0.6;\\ntmp = sin(bufA[1]);\\nbufB[1] = tmp/0.67;\\nbufB[7] = (tmp*tmp) / 0.6;\\ntmp = sin(bufA[2]);\\nbufB[2] = tmp/0.67;\\nbufB[8] = (tmp*tmp) / 0.6;\\ntmp = sin(bufA[3]);\\nbufB[3] = tmp/0.67;\\nbufB[9] = (tmp*tmp) / 0.6;\\ntmp = sin(bufA[4]);\\nbufB[4] = tmp/0.67;\\nbufB[10] = (tmp*tmp) / 0.6;\\ntmp = sin(bufA[5]);\\nbufB[5] = tmp/0.67;\\nbufB[11] = (tmp*tmp) / 0.6;\\nbufA[0] = vec4(0.05259477347135544,0.06260812282562256,0.03964589536190033,0.0) + mat4(vec4(0.27966392040252686,0.28381842374801636,0.28313395380973816,0.0),vec4(0.30615904927253723,0.30373555421829224,0.30924880504608154,0.0),vec4(0.34897473454475403,0.3494299650192261,0.34445780515670776,0.0),vec4(-0.38878458738327026,-0.38062623143196106,-0.3825567960739136,0.0)) * bufB[0] + mat4(vec4(0.3025985360145569,0.3023698031902313,0.29592180252075195,0.0),vec4(-0.2697947025299072,-0.2683483064174652,-0.2617024779319763,0.0),vec4(0.13250550627708435,0.1300538182258606,0.12296943366527557,0.0),vec4(-0.27789023518562317,-0.2709099352359772,-0.2778092622756958,0.0)) * bufB[1] + mat4(vec4(0.2988892197608948,0.2922552525997162,0.29496297240257263,0.0),vec4(0.35276567935943604,0.3490113914012909,0.35145750641822815,0.0),vec4(0.32542896270751953,0.3238483965396881,0.3191565275192261,0.0),vec4(-0.3401767909526825,-0.3344420790672302,-0.34781190752983093,0.0)) * bufB[2] + mat4(vec4(-0.21485675871372223,-0.21402700245380402,-0.21029189229011536,0.0),vec4(0.12314453721046448,0.12347878515720367,0.1191403791308403,0.0),vec4(0.30328628420829773,0.2950930595397949,0.30619293451309204,0.0),vec4(-0.41727784276008606,-0.4101450443267822,-0.40374892950057983,0.0)) * bufB[3] + mat4(vec4(0.26909685134887695,0.2711219787597656,0.2641754448413849,0.0),vec4(-0.2709546685218811,-0.27401480078697205,-0.2664548456668854,0.0),vec4(0.4819324314594269,0.4837959408760071,0.4774893522262573,0.0),vec4(0.2824563980102539,0.27831000089645386,0.272845983505249,0.0)) * bufB[4] + mat4(vec4(0.3124309778213501,0.3079395294189453,0.3042910099029541,0.0),vec4(-0.31534069776535034,-0.31407326459884644,-0.3188610076904297,0.0),vec4(-0.14298555254936218,-0.14151298999786377,-0.14275182783603668,0.0),vec4(-0.2846526801586151,-0.2847681939601898,-0.28048646450042725,0.0)) * bufB[5] + mat4(vec4(0.0263524167239666,0.02849300019443035,0.03028463013470173,0.0),vec4(-0.09575062245130539,-0.09133927524089813,-0.09535680711269379,0.0),vec4(0.04155416786670685,0.03787514194846153,0.04246380180120468,0.0),vec4(-0.2202940136194229,-0.21216504275798798,-0.22154664993286133,0.0)) * bufB[6] + mat4(vec4(-0.08423969149589539,-0.08398285508155823,-0.0842948704957962,0.0),vec4(0.013168880715966225,0.005552490707486868,0.00918988510966301,0.0),vec4(0.030724961310625076,0.03416730836033821,0.030341625213623047,0.0),vec4(0.029551200568675995,0.030963018536567688,0.03166547790169716,0.0)) * bufB[7] + mat4(vec4(-0.15762482583522797,-0.1512802690267563,-0.14414751529693604,0.0),vec4(0.01621316187083721,0.010018561966717243,0.004286203067749739,0.0),vec4(-0.07438439130783081,-0.07801861315965652,-0.06880827993154526,0.0),vec4(-0.1355142742395401,-0.12902644276618958,-0.13664264976978302,0.0)) * bufB[8] + mat4(vec4(0.06950127333402634,0.06914888322353363,0.0679258406162262,0.0),vec4(-0.009605495259165764,-0.010230189189314842,-0.007406117394566536,0.0),vec4(-0.10875310748815536,-0.10947859287261963,-0.11017721891403198,0.0),vec4(0.08084356039762497,0.08592455834150314,0.0882313996553421,0.0)) * bufB[9] + mat4(vec4(-0.19208264350891113,-0.19946901500225067,-0.18643096089363098,0.0),vec4(-0.21970637142658234,-0.21516796946525574,-0.21840143203735352,0.0),vec4(0.1514037847518921,0.1475331038236618,0.139352485537529,0.0),vec4(-0.004051918629556894,0.005354680120944977,-0.0020877618808299303,0.0)) * bufB[10] + mat4(vec4(-0.2599519193172455,-0.25860482454299927,-0.256086528301239,0.0),vec4(-0.057605866342782974,-0.05719543993473053,-0.05476957559585571,0.0),vec4(-0.22340571880340576,-0.2184036374092102,-0.2199828028678894,0.0),vec4(-0.014812462963163853,-0.01422520074993372,-0.00968514196574688,0.0)) * bufB[11];\\nreturn vec4((1. / (1. + exp(-bufA[0]))).xyz, 1.0);\\n}\\n\\nvoid mainImage( out vec4 fragColor, in vec2 fragCoord ) {\\n    // Normalized pixel coordinates (from 0 to 1)\\n    vec2 uv = fragCoord/iResolution.xy;\\n    vec2 mouseNorm = (iMouse.xy / iResolution.xy) - vec2(0.5, 0.5);\\n\\n\\n    uv.x *= iResolution.x / iResolution.y;\\n    uv.x -= ((iResolution.x / iResolution.y) - 1.) /2.;\\n\\n\\n    // Shifted to the form expected by the CPPN\\n    uv = vec2(1., -1.) * 2. * (uv - vec2(0.5, 0.5));\\n    // Output to screen\\n    fragColor = cppn_fn(uv, sin(iTime), sin(2.*iTime), sin(3.*iTime), sin(4.*iTime));\\n}\\n        '"
            ]
          },
          "metadata": {
            "tags": []
          },
          "execution_count": 262
        }
      ]
    }
  ]
}